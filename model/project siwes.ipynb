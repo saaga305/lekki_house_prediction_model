{
 "cells": [
  {
   "cell_type": "code",
   "execution_count": 81,
   "id": "a5292ee7",
   "metadata": {},
   "outputs": [],
   "source": [
    "import numpy as np # linear algebra"
   ]
  },
  {
   "cell_type": "code",
   "execution_count": 152,
   "id": "22307d0a",
   "metadata": {},
   "outputs": [],
   "source": [
    "import pandas as pd # data processing\n",
    "import matplotlib.pyplot as plt #visualization\n",
    "import seaborn as sns # better visualiztion from plt\n",
    "from sklearn.model_selection import train_test_split\n",
    "from sklearn.metrics import mean_absolute_error\n",
    "from category_encoders import OneHotEncoder\n",
    "from sklearn.pipeline import make_pipeline\n",
    "from sklearn.linear_model import LinearRegression, Ridge\n",
    "from ipywidgets import Dropdown, FloatSlider, IntSlider, interact"
   ]
  },
  {
   "cell_type": "code",
   "execution_count": 155,
   "id": "2e9a2581",
   "metadata": {},
   "outputs": [
    {
     "data": {
      "text/html": [
       "<div>\n",
       "<style scoped>\n",
       "    .dataframe tbody tr th:only-of-type {\n",
       "        vertical-align: middle;\n",
       "    }\n",
       "\n",
       "    .dataframe tbody tr th {\n",
       "        vertical-align: top;\n",
       "    }\n",
       "\n",
       "    .dataframe thead th {\n",
       "        text-align: right;\n",
       "    }\n",
       "</style>\n",
       "<table border=\"1\" class=\"dataframe\">\n",
       "  <thead>\n",
       "    <tr style=\"text-align: right;\">\n",
       "      <th></th>\n",
       "      <th>bedrooms</th>\n",
       "      <th>bathrooms</th>\n",
       "      <th>toilets</th>\n",
       "      <th>parking_space</th>\n",
       "      <th>title</th>\n",
       "      <th>town</th>\n",
       "      <th>state</th>\n",
       "      <th>price</th>\n",
       "    </tr>\n",
       "  </thead>\n",
       "  <tbody>\n",
       "    <tr>\n",
       "      <th>20602</th>\n",
       "      <td>4.0</td>\n",
       "      <td>5.0</td>\n",
       "      <td>5.0</td>\n",
       "      <td>4.0</td>\n",
       "      <td>Block of Flats</td>\n",
       "      <td>Ikoyi</td>\n",
       "      <td>Lagos</td>\n",
       "      <td>1.500000e+10</td>\n",
       "    </tr>\n",
       "    <tr>\n",
       "      <th>13490</th>\n",
       "      <td>3.0</td>\n",
       "      <td>3.0</td>\n",
       "      <td>3.0</td>\n",
       "      <td>4.0</td>\n",
       "      <td>Semi Detached Duplex</td>\n",
       "      <td>Ajah</td>\n",
       "      <td>Lagos</td>\n",
       "      <td>4.200000e+10</td>\n",
       "    </tr>\n",
       "    <tr>\n",
       "      <th>17383</th>\n",
       "      <td>4.0</td>\n",
       "      <td>4.0</td>\n",
       "      <td>5.0</td>\n",
       "      <td>3.0</td>\n",
       "      <td>Detached Duplex</td>\n",
       "      <td>Ajah</td>\n",
       "      <td>Lagos</td>\n",
       "      <td>5.000000e+10</td>\n",
       "    </tr>\n",
       "    <tr>\n",
       "      <th>15806</th>\n",
       "      <td>5.0</td>\n",
       "      <td>5.0</td>\n",
       "      <td>5.0</td>\n",
       "      <td>1.0</td>\n",
       "      <td>Detached Duplex</td>\n",
       "      <td>Ifako-Ijaiye</td>\n",
       "      <td>Lagos</td>\n",
       "      <td>5.500000e+10</td>\n",
       "    </tr>\n",
       "    <tr>\n",
       "      <th>15836</th>\n",
       "      <td>5.0</td>\n",
       "      <td>6.0</td>\n",
       "      <td>7.0</td>\n",
       "      <td>4.0</td>\n",
       "      <td>Terraced Duplexes</td>\n",
       "      <td>Guzape District</td>\n",
       "      <td>Abuja</td>\n",
       "      <td>8.500000e+10</td>\n",
       "    </tr>\n",
       "    <tr>\n",
       "      <th>7098</th>\n",
       "      <td>5.0</td>\n",
       "      <td>5.0</td>\n",
       "      <td>6.0</td>\n",
       "      <td>4.0</td>\n",
       "      <td>Semi Detached Duplex</td>\n",
       "      <td>Lekki</td>\n",
       "      <td>Lagos</td>\n",
       "      <td>1.250000e+11</td>\n",
       "    </tr>\n",
       "    <tr>\n",
       "      <th>4327</th>\n",
       "      <td>5.0</td>\n",
       "      <td>5.0</td>\n",
       "      <td>6.0</td>\n",
       "      <td>4.0</td>\n",
       "      <td>Detached Duplex</td>\n",
       "      <td>Lekki</td>\n",
       "      <td>Lagos</td>\n",
       "      <td>1.600000e+11</td>\n",
       "    </tr>\n",
       "    <tr>\n",
       "      <th>15962</th>\n",
       "      <td>9.0</td>\n",
       "      <td>9.0</td>\n",
       "      <td>1.0</td>\n",
       "      <td>4.0</td>\n",
       "      <td>Detached Duplex</td>\n",
       "      <td>Lekki</td>\n",
       "      <td>Lagos</td>\n",
       "      <td>3.500000e+11</td>\n",
       "    </tr>\n",
       "    <tr>\n",
       "      <th>6632</th>\n",
       "      <td>4.0</td>\n",
       "      <td>4.0</td>\n",
       "      <td>5.0</td>\n",
       "      <td>4.0</td>\n",
       "      <td>Semi Detached Duplex</td>\n",
       "      <td>Ikoyi</td>\n",
       "      <td>Lagos</td>\n",
       "      <td>4.500000e+11</td>\n",
       "    </tr>\n",
       "    <tr>\n",
       "      <th>4096</th>\n",
       "      <td>7.0</td>\n",
       "      <td>7.0</td>\n",
       "      <td>8.0</td>\n",
       "      <td>8.0</td>\n",
       "      <td>Detached Duplex</td>\n",
       "      <td>Ikoyi</td>\n",
       "      <td>Lagos</td>\n",
       "      <td>1.800000e+12</td>\n",
       "    </tr>\n",
       "  </tbody>\n",
       "</table>\n",
       "</div>"
      ],
      "text/plain": [
       "       bedrooms  bathrooms  toilets  parking_space                 title  \\\n",
       "20602       4.0        5.0      5.0            4.0        Block of Flats   \n",
       "13490       3.0        3.0      3.0            4.0  Semi Detached Duplex   \n",
       "17383       4.0        4.0      5.0            3.0       Detached Duplex   \n",
       "15806       5.0        5.0      5.0            1.0       Detached Duplex   \n",
       "15836       5.0        6.0      7.0            4.0     Terraced Duplexes   \n",
       "7098        5.0        5.0      6.0            4.0  Semi Detached Duplex   \n",
       "4327        5.0        5.0      6.0            4.0       Detached Duplex   \n",
       "15962       9.0        9.0      1.0            4.0       Detached Duplex   \n",
       "6632        4.0        4.0      5.0            4.0  Semi Detached Duplex   \n",
       "4096        7.0        7.0      8.0            8.0       Detached Duplex   \n",
       "\n",
       "                  town  state         price  \n",
       "20602            Ikoyi  Lagos  1.500000e+10  \n",
       "13490             Ajah  Lagos  4.200000e+10  \n",
       "17383             Ajah  Lagos  5.000000e+10  \n",
       "15806     Ifako-Ijaiye  Lagos  5.500000e+10  \n",
       "15836  Guzape District  Abuja  8.500000e+10  \n",
       "7098             Lekki  Lagos  1.250000e+11  \n",
       "4327             Lekki  Lagos  1.600000e+11  \n",
       "15962            Lekki  Lagos  3.500000e+11  \n",
       "6632             Ikoyi  Lagos  4.500000e+11  \n",
       "4096             Ikoyi  Lagos  1.800000e+12  "
      ]
     },
     "execution_count": 155,
     "metadata": {},
     "output_type": "execute_result"
    }
   ],
   "source": [
    "df = pd.read_csv(\"nigeria_houses_data.csv\")\n",
    "df.sort_values(by=\"price\").tail(10)"
   ]
  },
  {
   "cell_type": "code",
   "execution_count": 84,
   "id": "5a1041ee",
   "metadata": {},
   "outputs": [
    {
     "name": "stdout",
     "output_type": "stream",
     "text": [
      "<class 'pandas.core.frame.DataFrame'>\n",
      "RangeIndex: 24326 entries, 0 to 24325\n",
      "Data columns (total 8 columns):\n",
      " #   Column         Non-Null Count  Dtype  \n",
      "---  ------         --------------  -----  \n",
      " 0   bedrooms       24326 non-null  float64\n",
      " 1   bathrooms      24326 non-null  float64\n",
      " 2   toilets        24326 non-null  float64\n",
      " 3   parking_space  24326 non-null  float64\n",
      " 4   title          24326 non-null  object \n",
      " 5   town           24326 non-null  object \n",
      " 6   state          24326 non-null  object \n",
      " 7   price          24326 non-null  float64\n",
      "dtypes: float64(5), object(3)\n",
      "memory usage: 1.5+ MB\n"
     ]
    }
   ],
   "source": [
    "df.info()"
   ]
  },
  {
   "cell_type": "code",
   "execution_count": 85,
   "id": "ea6c7b54",
   "metadata": {},
   "outputs": [
    {
     "data": {
      "text/plain": [
       "bedrooms         0\n",
       "bathrooms        0\n",
       "toilets          0\n",
       "parking_space    0\n",
       "title            0\n",
       "town             0\n",
       "state            0\n",
       "price            0\n",
       "dtype: int64"
      ]
     },
     "execution_count": 85,
     "metadata": {},
     "output_type": "execute_result"
    }
   ],
   "source": [
    "df.isnull().sum()"
   ]
  },
  {
   "cell_type": "code",
   "execution_count": 86,
   "id": "45515a84",
   "metadata": {},
   "outputs": [],
   "source": [
    "# Data Exploratory"
   ]
  },
  {
   "cell_type": "code",
   "execution_count": 87,
   "id": "5212a521",
   "metadata": {},
   "outputs": [],
   "source": [
    "state_no = df.state.nunique()"
   ]
  },
  {
   "cell_type": "code",
   "execution_count": 88,
   "id": "a23831c2",
   "metadata": {},
   "outputs": [
    {
     "data": {
      "text/plain": [
       "25"
      ]
     },
     "execution_count": 88,
     "metadata": {},
     "output_type": "execute_result"
    }
   ],
   "source": [
    "state_no"
   ]
  },
  {
   "cell_type": "code",
   "execution_count": 89,
   "id": "ea379010",
   "metadata": {},
   "outputs": [],
   "source": [
    "# Unique number of towns \n",
    "towns_no = df.town.nunique()"
   ]
  },
  {
   "cell_type": "code",
   "execution_count": 90,
   "id": "5416d539",
   "metadata": {},
   "outputs": [
    {
     "data": {
      "text/plain": [
       "189"
      ]
     },
     "execution_count": 90,
     "metadata": {},
     "output_type": "execute_result"
    }
   ],
   "source": [
    "towns_no"
   ]
  },
  {
   "cell_type": "code",
   "execution_count": 91,
   "id": "16e4a2a5",
   "metadata": {},
   "outputs": [
    {
     "data": {
      "image/png": "[encoded data removed]",
      "text/plain": [
       "<Figure size 640x480 with 1 Axes>"
      ]
     },
     "metadata": {},
     "output_type": "display_data"
    }
   ],
   "source": [
    "# small visualization using matplotlib\n",
    "(\n",
    "(df.groupby(\"town\")['price']\n",
    " .mean()/1e9)\n",
    " .sort_values(ascending = False)\n",
    " .head(20)\n",
    " .plot(kind = \"bar\",\n",
    "      xlabel = 'Towns',\n",
    "      ylabel = \"Prices [#1B]\",\n",
    "      title = \"Most Expensive real estate towns in nigeria\")   \n",
    ");"
   ]
  },
  {
   "cell_type": "code",
   "execution_count": 92,
   "id": "9cc7e22b",
   "metadata": {},
   "outputs": [
    {
     "data": {
      "text/plain": [
       "'During the analysis, a clear distinction emerged between the houses in Ifako-Ijaiye and those in the Maitama District. It was evident that there were outliers influencing this observation. Upon closer examination, it was discovered that a house in Ifako-Ijaiye was being sold for an astonishing amount of 55 billion naira, which seemed highly unreasonable.\\n\\n\\nSimilarly, although houses in Ikoyi were already known to be expensive, the magnitude of the price gap was unexpected. Further investigation revealed that one particular house was being sold for a staggering 1.8 trillion naira. Whether or not the house warranted such a high price is not the focus of the discussion; however, its presence had a detrimental effect on the overall dataset.'"
      ]
     },
     "execution_count": 92,
     "metadata": {},
     "output_type": "execute_result"
    }
   ],
   "source": [
    "\"\"\"During the analysis, a clear distinction emerged between the houses in Ifako-Ijaiye and those in the Maitama District. It was evident that there were outliers influencing this observation. Upon closer examination, it was discovered that a house in Ifako-Ijaiye was being sold for an astonishing amount of 55 billion naira, which seemed highly unreasonable.\n",
    "\\n\n",
    "Similarly, although houses in Ikoyi were already known to be expensive, the magnitude of the price gap was unexpected. Further investigation revealed that one particular house was being sold for a staggering 1.8 trillion naira. Whether or not the house warranted such a high price is not the focus of the discussion; however, its presence had a detrimental effect on the overall dataset.\"\"\""
   ]
  },
  {
   "cell_type": "code",
   "execution_count": 93,
   "id": "bc545506",
   "metadata": {},
   "outputs": [],
   "source": [
    "# LOOKING FOR OUTLIERS"
   ]
  },
  {
   "cell_type": "code",
   "execution_count": 94,
   "id": "e31383de",
   "metadata": {},
   "outputs": [
    {
     "name": "stdout",
     "output_type": "stream",
     "text": [
      "bedrooms                       9.0\n",
      "bathrooms                      9.0\n",
      "toilets                        9.0\n",
      "parking_space                  9.0\n",
      "title            Terraced Duplexes\n",
      "town                         Ikoyi\n",
      "state                        Lagos\n",
      "price              1800000000000.0\n",
      "dtype: object\n",
      "bedrooms                       7.0\n",
      "bathrooms                      8.0\n",
      "toilets                        8.0\n",
      "parking_space                  8.0\n",
      "title            Terraced Bungalow\n",
      "town                  Ifako-Ijaiye\n",
      "state                        Lagos\n",
      "price                55000000000.0\n",
      "dtype: object\n"
     ]
    }
   ],
   "source": [
    "print(df[df[\"town\"] == \"Ikoyi\"].max())\n",
    "print(df[df['town'] == 'Ifako-Ijaiye'].max())"
   ]
  },
  {
   "cell_type": "code",
   "execution_count": 95,
   "id": "7290fa10",
   "metadata": {},
   "outputs": [],
   "source": [
    "# Removing Outliers "
   ]
  },
  {
   "cell_type": "code",
   "execution_count": 96,
   "id": "f2242d8f",
   "metadata": {},
   "outputs": [
    {
     "data": {
      "text/html": [
       "<div>\n",
       "<style scoped>\n",
       "    .dataframe tbody tr th:only-of-type {\n",
       "        vertical-align: middle;\n",
       "    }\n",
       "\n",
       "    .dataframe tbody tr th {\n",
       "        vertical-align: top;\n",
       "    }\n",
       "\n",
       "    .dataframe thead th {\n",
       "        text-align: right;\n",
       "    }\n",
       "</style>\n",
       "<table border=\"1\" class=\"dataframe\">\n",
       "  <thead>\n",
       "    <tr style=\"text-align: right;\">\n",
       "      <th></th>\n",
       "      <th>bedrooms</th>\n",
       "      <th>bathrooms</th>\n",
       "      <th>toilets</th>\n",
       "      <th>parking_space</th>\n",
       "      <th>title</th>\n",
       "      <th>town</th>\n",
       "      <th>state</th>\n",
       "      <th>price</th>\n",
       "    </tr>\n",
       "  </thead>\n",
       "  <tbody>\n",
       "    <tr>\n",
       "      <th>2</th>\n",
       "      <td>4.0</td>\n",
       "      <td>5.0</td>\n",
       "      <td>5.0</td>\n",
       "      <td>4.0</td>\n",
       "      <td>Detached Duplex</td>\n",
       "      <td>Lekki</td>\n",
       "      <td>Lagos</td>\n",
       "      <td>120000000.0</td>\n",
       "    </tr>\n",
       "    <tr>\n",
       "      <th>3</th>\n",
       "      <td>4.0</td>\n",
       "      <td>4.0</td>\n",
       "      <td>5.0</td>\n",
       "      <td>6.0</td>\n",
       "      <td>Detached Duplex</td>\n",
       "      <td>Ajah</td>\n",
       "      <td>Lagos</td>\n",
       "      <td>40000000.0</td>\n",
       "    </tr>\n",
       "    <tr>\n",
       "      <th>4</th>\n",
       "      <td>4.0</td>\n",
       "      <td>4.0</td>\n",
       "      <td>5.0</td>\n",
       "      <td>2.0</td>\n",
       "      <td>Semi Detached Duplex</td>\n",
       "      <td>Lekki</td>\n",
       "      <td>Lagos</td>\n",
       "      <td>75000000.0</td>\n",
       "    </tr>\n",
       "    <tr>\n",
       "      <th>6</th>\n",
       "      <td>4.0</td>\n",
       "      <td>5.0</td>\n",
       "      <td>5.0</td>\n",
       "      <td>4.0</td>\n",
       "      <td>Detached Duplex</td>\n",
       "      <td>Lekki</td>\n",
       "      <td>Lagos</td>\n",
       "      <td>65000000.0</td>\n",
       "    </tr>\n",
       "    <tr>\n",
       "      <th>8</th>\n",
       "      <td>1.0</td>\n",
       "      <td>1.0</td>\n",
       "      <td>1.0</td>\n",
       "      <td>1.0</td>\n",
       "      <td>Detached Duplex</td>\n",
       "      <td>Lekki</td>\n",
       "      <td>Lagos</td>\n",
       "      <td>200000000.0</td>\n",
       "    </tr>\n",
       "    <tr>\n",
       "      <th>...</th>\n",
       "      <td>...</td>\n",
       "      <td>...</td>\n",
       "      <td>...</td>\n",
       "      <td>...</td>\n",
       "      <td>...</td>\n",
       "      <td>...</td>\n",
       "      <td>...</td>\n",
       "      <td>...</td>\n",
       "    </tr>\n",
       "    <tr>\n",
       "      <th>24318</th>\n",
       "      <td>4.0</td>\n",
       "      <td>5.0</td>\n",
       "      <td>5.0</td>\n",
       "      <td>4.0</td>\n",
       "      <td>Semi Detached Duplex</td>\n",
       "      <td>Lekki</td>\n",
       "      <td>Lagos</td>\n",
       "      <td>110000000.0</td>\n",
       "    </tr>\n",
       "    <tr>\n",
       "      <th>24320</th>\n",
       "      <td>3.0</td>\n",
       "      <td>4.0</td>\n",
       "      <td>4.0</td>\n",
       "      <td>5.0</td>\n",
       "      <td>Detached Duplex</td>\n",
       "      <td>Lekki</td>\n",
       "      <td>Lagos</td>\n",
       "      <td>80000000.0</td>\n",
       "    </tr>\n",
       "    <tr>\n",
       "      <th>24323</th>\n",
       "      <td>4.0</td>\n",
       "      <td>5.0</td>\n",
       "      <td>5.0</td>\n",
       "      <td>4.0</td>\n",
       "      <td>Detached Duplex</td>\n",
       "      <td>Lekki</td>\n",
       "      <td>Lagos</td>\n",
       "      <td>68000000.0</td>\n",
       "    </tr>\n",
       "    <tr>\n",
       "      <th>24324</th>\n",
       "      <td>3.0</td>\n",
       "      <td>4.0</td>\n",
       "      <td>4.0</td>\n",
       "      <td>3.0</td>\n",
       "      <td>Block of Flats</td>\n",
       "      <td>Victoria Island (VI)</td>\n",
       "      <td>Lagos</td>\n",
       "      <td>78000000.0</td>\n",
       "    </tr>\n",
       "    <tr>\n",
       "      <th>24325</th>\n",
       "      <td>4.0</td>\n",
       "      <td>5.0</td>\n",
       "      <td>5.0</td>\n",
       "      <td>4.0</td>\n",
       "      <td>Detached Duplex</td>\n",
       "      <td>Lekki</td>\n",
       "      <td>Lagos</td>\n",
       "      <td>65000000.0</td>\n",
       "    </tr>\n",
       "  </tbody>\n",
       "</table>\n",
       "<p>17491 rows × 8 columns</p>\n",
       "</div>"
      ],
      "text/plain": [
       "       bedrooms  bathrooms  toilets  parking_space                 title  \\\n",
       "2           4.0        5.0      5.0            4.0       Detached Duplex   \n",
       "3           4.0        4.0      5.0            6.0       Detached Duplex   \n",
       "4           4.0        4.0      5.0            2.0  Semi Detached Duplex   \n",
       "6           4.0        5.0      5.0            4.0       Detached Duplex   \n",
       "8           1.0        1.0      1.0            1.0       Detached Duplex   \n",
       "...         ...        ...      ...            ...                   ...   \n",
       "24318       4.0        5.0      5.0            4.0  Semi Detached Duplex   \n",
       "24320       3.0        4.0      4.0            5.0       Detached Duplex   \n",
       "24323       4.0        5.0      5.0            4.0       Detached Duplex   \n",
       "24324       3.0        4.0      4.0            3.0        Block of Flats   \n",
       "24325       4.0        5.0      5.0            4.0       Detached Duplex   \n",
       "\n",
       "                       town  state        price  \n",
       "2                     Lekki  Lagos  120000000.0  \n",
       "3                      Ajah  Lagos   40000000.0  \n",
       "4                     Lekki  Lagos   75000000.0  \n",
       "6                     Lekki  Lagos   65000000.0  \n",
       "8                     Lekki  Lagos  200000000.0  \n",
       "...                     ...    ...          ...  \n",
       "24318                 Lekki  Lagos  110000000.0  \n",
       "24320                 Lekki  Lagos   80000000.0  \n",
       "24323                 Lekki  Lagos   68000000.0  \n",
       "24324  Victoria Island (VI)  Lagos   78000000.0  \n",
       "24325                 Lekki  Lagos   65000000.0  \n",
       "\n",
       "[17491 rows x 8 columns]"
      ]
     },
     "execution_count": 96,
     "metadata": {},
     "output_type": "execute_result"
    }
   ],
   "source": [
    "trim_df = q1, q9 = df.price.quantile([0.15,0.85])\n",
    "mask_df = df.price.between(q1,q9)\n",
    "trimmed_df = df[mask_df]\n",
    "trimmed_df"
   ]
  },
  {
   "cell_type": "code",
   "execution_count": 97,
   "id": "6af1a48d",
   "metadata": {},
   "outputs": [
    {
     "data": {
      "text/plain": [
       "Lagos        13805\n",
       "Abuja         2462\n",
       "Rivers         339\n",
       "Oyo            229\n",
       "Imo            195\n",
       "Ogun           141\n",
       "Enugu           96\n",
       "Anambara        83\n",
       "Edo             51\n",
       "Delta           42\n",
       "Akwa Ibom       13\n",
       "Kaduna           8\n",
       "Ekiti            5\n",
       "Abia             5\n",
       "Kogi             4\n",
       "Nasarawa         4\n",
       "Osun             3\n",
       "Kwara            2\n",
       "Borno            2\n",
       "Bayelsa          1\n",
       "Niger            1\n",
       "Name: state, dtype: int64"
      ]
     },
     "execution_count": 97,
     "metadata": {},
     "output_type": "execute_result"
    }
   ],
   "source": [
    "few_records = trimmed_df.state.value_counts()\n",
    "few_records"
   ]
  },
  {
   "cell_type": "code",
   "execution_count": 98,
   "id": "2f0f1d5a",
   "metadata": {},
   "outputs": [],
   "source": [
    "# Removing States with few entries to stabilize the average\n",
    "trimmed_df = trimmed_df[~trimmed_df.state.isin(few_records[few_records < 100].index)]"
   ]
  },
  {
   "cell_type": "code",
   "execution_count": 99,
   "id": "d6dc36e8",
   "metadata": {},
   "outputs": [
    {
     "data": {
      "text/plain": [
       "Lagos     13805\n",
       "Abuja      2462\n",
       "Rivers      339\n",
       "Oyo         229\n",
       "Imo         195\n",
       "Ogun        141\n",
       "Name: state, dtype: int64"
      ]
     },
     "execution_count": 99,
     "metadata": {},
     "output_type": "execute_result"
    }
   ],
   "source": [
    "trimmed_df.state.value_counts()"
   ]
  },
  {
   "cell_type": "code",
   "execution_count": 100,
   "id": "f356bf6d",
   "metadata": {},
   "outputs": [
    {
     "data": {
      "text/plain": [
       "'This chart looks a lot more accurate than the previous one. Ikoyi is still on top which is expected but now, it is not so far away from the other expensive towns.'"
      ]
     },
     "execution_count": 100,
     "metadata": {},
     "output_type": "execute_result"
    }
   ],
   "source": [
    "\"\"\"This chart looks a lot more accurate than the previous one. Ikoyi is still on top which is expected but now, it is not so far away from the other expensive towns.\"\"\""
   ]
  },
  {
   "cell_type": "code",
   "execution_count": 101,
   "id": "3c512758",
   "metadata": {},
   "outputs": [
    {
     "data": {
      "image/png": "[encoded data removed]",
      "text/plain": [
       "<Figure size 640x480 with 1 Axes>"
      ]
     },
     "metadata": {},
     "output_type": "display_data"
    }
   ],
   "source": [
    "((trimmed_df.groupby(\"town\")['price']\n",
    " .mean()/1e6)\n",
    " .sort_values(ascending = False)\n",
    " .head(20)\n",
    " .plot(kind = \"bar\",\n",
    "      xlabel = \"Towns\",\n",
    "      ylabel = \"Prices [#1M]\",\n",
    "      title = \"Most Expensive Real Estate Towns i Nigeria\")\n",
    ");"
   ]
  },
  {
   "cell_type": "code",
   "execution_count": 102,
   "id": "6710b056",
   "metadata": {},
   "outputs": [
    {
     "data": {
      "text/plain": [
       "'During the analysis, a clear distinction emerged between the houses in Ifako-Ijaiye and those in the Maitama District. It was evident that there were outliers influencing this observation. Upon closer examination, it was discovered that a house in Ifako-Ijaiye was being sold for an astonishing amount of 55 billion naira, which seemed highly unreasonable.\\n\\nSimilarly, although houses in Ikoyi were already known to be expensive, the magnitude of the price gap was unexpected. Further investigation revealed that one particular house was being sold for a staggering 1.8 trillion naira. Whether or not the house warranted such a high price is not the focus of the discussion; however, its presence had a detrimental effect on the overall dataset.'"
      ]
     },
     "execution_count": 102,
     "metadata": {},
     "output_type": "execute_result"
    }
   ],
   "source": [
    "\"\"\"During the analysis, a clear distinction emerged between the houses in Ifako-Ijaiye and those in the Maitama District. It was evident that there were outliers influencing this observation. Upon closer examination, it was discovered that a house in Ifako-Ijaiye was being sold for an astonishing amount of 55 billion naira, which seemed highly unreasonable.\n",
    "\n",
    "Similarly, although houses in Ikoyi were already known to be expensive, the magnitude of the price gap was unexpected. Further investigation revealed that one particular house was being sold for a staggering 1.8 trillion naira. Whether or not the house warranted such a high price is not the focus of the discussion; however, its presence had a detrimental effect on the overall dataset.\"\"\""
   ]
  },
  {
   "cell_type": "code",
   "execution_count": 103,
   "id": "a74d5c8a",
   "metadata": {},
   "outputs": [],
   "source": [
    "# States  with the highest mean prices"
   ]
  },
  {
   "cell_type": "code",
   "execution_count": 104,
   "id": "16680816",
   "metadata": {},
   "outputs": [
    {
     "data": {
      "image/png": "[encoded data removed]",
      "text/plain": [
       "<Figure size 640x480 with 1 Axes>"
      ]
     },
     "metadata": {},
     "output_type": "display_data"
    }
   ],
   "source": [
    "(\n",
    "    (trimmed_df.groupby(\"state\")['price'].mean()/1e6)\n",
    "    .sort_values(ascending = False)\n",
    "    .plot(kind = \"bar\",\n",
    "         xlabel = \"States\",\n",
    "         ylabel = \"Prices [#1M]\",\n",
    "         title = 'Average House Price by State')\n",
    ");"
   ]
  },
  {
   "cell_type": "code",
   "execution_count": 105,
   "id": "6f6490a7",
   "metadata": {},
   "outputs": [
    {
     "data": {
      "text/plain": [
       "Lagos     13805\n",
       "Abuja      2462\n",
       "Rivers      339\n",
       "Oyo         229\n",
       "Imo         195\n",
       "Ogun        141\n",
       "Name: state, dtype: int64"
      ]
     },
     "execution_count": 105,
     "metadata": {},
     "output_type": "execute_result"
    }
   ],
   "source": [
    "\n",
    "trimmed_df.state.value_counts()"
   ]
  },
  {
   "cell_type": "code",
   "execution_count": 106,
   "id": "c72118af",
   "metadata": {},
   "outputs": [
    {
     "data": {
      "image/png": "[encoded data removed]",
      "text/plain": [
       "<Figure size 640x480 with 1 Axes>"
      ]
     },
     "metadata": {},
     "output_type": "display_data"
    }
   ],
   "source": [
    "((\n",
    "trimmed_df.groupby(\"title\")[\"price\"]\n",
    ".mean()/1e6)\n",
    ".plot(kind = 'barh',\n",
    "     xlabel = 'House Type',\n",
    "     ylabel = \"Prices [#1M]\",\n",
    "     title = 'Average Price by Type of House')    \n",
    ");"
   ]
  },
  {
   "cell_type": "code",
   "execution_count": 107,
   "id": "a08bfd94",
   "metadata": {},
   "outputs": [
    {
     "data": {
      "image/png": "[encoded data removed]",
      "text/plain": [
       "<Figure size 640x480 with 1 Axes>"
      ]
     },
     "metadata": {},
     "output_type": "display_data"
    }
   ],
   "source": [
    "trimmed_df_lagos = trimmed_df[trimmed_df[\"state\"] == \"Lagos\"]\n",
    "(\n",
    "    (trimmed_df_lagos.groupby(\"town\")[\"price\"].mean()/1e6)\n",
    "    .sort_values(ascending = False)\n",
    "    .head(10).plot(kind='bar',\n",
    "                  xlabel = \"Towns\",\n",
    "                  ylabel = \"Prices [#1m]\",\n",
    "                  title = \"Average Price of Houses by Towns in Lagos\")\n",
    ");"
   ]
  },
  {
   "cell_type": "code",
   "execution_count": 108,
   "id": "b4e67538",
   "metadata": {},
   "outputs": [
    {
     "data": {
      "text/plain": [
       "Lekki                   9134\n",
       "Ajah                    1797\n",
       "Ikeja                    609\n",
       "Magodo                   360\n",
       "Victoria Island (VI)     300\n",
       "Ikoyi                    255\n",
       "Ibeju Lekki              193\n",
       "Isheri North             183\n",
       "Isolo                    164\n",
       "Surulere                 106\n",
       "Alimosho                  92\n",
       "Yaba                      75\n",
       "Maryland                  58\n",
       "Agege                     56\n",
       "Ojodu                     55\n",
       "Gbagada                   51\n",
       "Ikorodu                   49\n",
       "Ogudu                     43\n",
       "Amuwo Odofin              40\n",
       "Ilupeju                   29\n",
       "Ipaja                     22\n",
       "Ikotun                    21\n",
       "Shomolu                   15\n",
       "Ojo                       15\n",
       "Isheri                    15\n",
       "Ketu                      13\n",
       "Ifako-Ijaiye              13\n",
       "Oshodi                     9\n",
       "Ejigbo                     7\n",
       "Idimu                      4\n",
       "Kosofe                     3\n",
       "Lagos Island               3\n",
       "Agbara-Igbesa              3\n",
       "Apapa                      3\n",
       "Ijaiye                     2\n",
       "Ayobo                      2\n",
       "Ojota                      1\n",
       "Epe                        1\n",
       "Mushin                     1\n",
       "Egbe                       1\n",
       "Badagry                    1\n",
       "Ijesha                     1\n",
       "Name: town, dtype: int64"
      ]
     },
     "execution_count": 108,
     "metadata": {},
     "output_type": "execute_result"
    }
   ],
   "source": [
    "trimmed_df_lagos['town'].value_counts()"
   ]
  },
  {
   "cell_type": "code",
   "execution_count": 109,
   "id": "a853cd6c",
   "metadata": {},
   "outputs": [],
   "source": [
    "df_lekki = trimmed_df_lagos[trimmed_df_lagos['town']==\"Lekki\"].reset_index()\n",
    "df_lekki.drop(columns=[\"index\",\"state\"],inplace=True)"
   ]
  },
  {
   "cell_type": "code",
   "execution_count": 110,
   "id": "78105a22",
   "metadata": {},
   "outputs": [
    {
     "data": {
      "text/html": [
       "<div>\n",
       "<style scoped>\n",
       "    .dataframe tbody tr th:only-of-type {\n",
       "        vertical-align: middle;\n",
       "    }\n",
       "\n",
       "    .dataframe tbody tr th {\n",
       "        vertical-align: top;\n",
       "    }\n",
       "\n",
       "    .dataframe thead th {\n",
       "        text-align: right;\n",
       "    }\n",
       "</style>\n",
       "<table border=\"1\" class=\"dataframe\">\n",
       "  <thead>\n",
       "    <tr style=\"text-align: right;\">\n",
       "      <th></th>\n",
       "      <th>bedrooms</th>\n",
       "      <th>bathrooms</th>\n",
       "      <th>toilets</th>\n",
       "      <th>parking_space</th>\n",
       "      <th>price</th>\n",
       "    </tr>\n",
       "  </thead>\n",
       "  <tbody>\n",
       "    <tr>\n",
       "      <th>count</th>\n",
       "      <td>9134.000000</td>\n",
       "      <td>9134.000000</td>\n",
       "      <td>9134.000000</td>\n",
       "      <td>9134.000000</td>\n",
       "      <td>9.134000e+03</td>\n",
       "    </tr>\n",
       "    <tr>\n",
       "      <th>mean</th>\n",
       "      <td>4.471097</td>\n",
       "      <td>4.697613</td>\n",
       "      <td>5.427414</td>\n",
       "      <td>3.986643</td>\n",
       "      <td>1.074863e+08</td>\n",
       "    </tr>\n",
       "    <tr>\n",
       "      <th>std</th>\n",
       "      <td>0.681831</td>\n",
       "      <td>0.763707</td>\n",
       "      <td>0.760587</td>\n",
       "      <td>1.121365</td>\n",
       "      <td>4.855801e+07</td>\n",
       "    </tr>\n",
       "    <tr>\n",
       "      <th>min</th>\n",
       "      <td>1.000000</td>\n",
       "      <td>1.000000</td>\n",
       "      <td>1.000000</td>\n",
       "      <td>1.000000</td>\n",
       "      <td>3.500000e+07</td>\n",
       "    </tr>\n",
       "    <tr>\n",
       "      <th>25%</th>\n",
       "      <td>4.000000</td>\n",
       "      <td>4.000000</td>\n",
       "      <td>5.000000</td>\n",
       "      <td>4.000000</td>\n",
       "      <td>7.000000e+07</td>\n",
       "    </tr>\n",
       "    <tr>\n",
       "      <th>50%</th>\n",
       "      <td>5.000000</td>\n",
       "      <td>5.000000</td>\n",
       "      <td>5.000000</td>\n",
       "      <td>4.000000</td>\n",
       "      <td>9.500000e+07</td>\n",
       "    </tr>\n",
       "    <tr>\n",
       "      <th>75%</th>\n",
       "      <td>5.000000</td>\n",
       "      <td>5.000000</td>\n",
       "      <td>6.000000</td>\n",
       "      <td>4.000000</td>\n",
       "      <td>1.300000e+08</td>\n",
       "    </tr>\n",
       "    <tr>\n",
       "      <th>max</th>\n",
       "      <td>9.000000</td>\n",
       "      <td>9.000000</td>\n",
       "      <td>9.000000</td>\n",
       "      <td>9.000000</td>\n",
       "      <td>2.600000e+08</td>\n",
       "    </tr>\n",
       "  </tbody>\n",
       "</table>\n",
       "</div>"
      ],
      "text/plain": [
       "          bedrooms    bathrooms      toilets  parking_space         price\n",
       "count  9134.000000  9134.000000  9134.000000    9134.000000  9.134000e+03\n",
       "mean      4.471097     4.697613     5.427414       3.986643  1.074863e+08\n",
       "std       0.681831     0.763707     0.760587       1.121365  4.855801e+07\n",
       "min       1.000000     1.000000     1.000000       1.000000  3.500000e+07\n",
       "25%       4.000000     4.000000     5.000000       4.000000  7.000000e+07\n",
       "50%       5.000000     5.000000     5.000000       4.000000  9.500000e+07\n",
       "75%       5.000000     5.000000     6.000000       4.000000  1.300000e+08\n",
       "max       9.000000     9.000000     9.000000       9.000000  2.600000e+08"
      ]
     },
     "execution_count": 110,
     "metadata": {},
     "output_type": "execute_result"
    }
   ],
   "source": [
    "df_lekki.describe()"
   ]
  },
  {
   "cell_type": "code",
   "execution_count": 111,
   "id": "790479b2",
   "metadata": {},
   "outputs": [],
   "source": [
    "# Renaming the title column house_type"
   ]
  },
  {
   "cell_type": "code",
   "execution_count": 112,
   "id": "36a3f3c9",
   "metadata": {},
   "outputs": [
    {
     "data": {
      "text/html": [
       "<div>\n",
       "<style scoped>\n",
       "    .dataframe tbody tr th:only-of-type {\n",
       "        vertical-align: middle;\n",
       "    }\n",
       "\n",
       "    .dataframe tbody tr th {\n",
       "        vertical-align: top;\n",
       "    }\n",
       "\n",
       "    .dataframe thead th {\n",
       "        text-align: right;\n",
       "    }\n",
       "</style>\n",
       "<table border=\"1\" class=\"dataframe\">\n",
       "  <thead>\n",
       "    <tr style=\"text-align: right;\">\n",
       "      <th></th>\n",
       "      <th>bedrooms</th>\n",
       "      <th>bathrooms</th>\n",
       "      <th>toilets</th>\n",
       "      <th>parking_space</th>\n",
       "      <th>house_type</th>\n",
       "      <th>town</th>\n",
       "      <th>price</th>\n",
       "    </tr>\n",
       "  </thead>\n",
       "  <tbody>\n",
       "    <tr>\n",
       "      <th>0</th>\n",
       "      <td>4.0</td>\n",
       "      <td>5.0</td>\n",
       "      <td>5.0</td>\n",
       "      <td>4.0</td>\n",
       "      <td>Detached Duplex</td>\n",
       "      <td>Lekki</td>\n",
       "      <td>120000000.0</td>\n",
       "    </tr>\n",
       "    <tr>\n",
       "      <th>1</th>\n",
       "      <td>4.0</td>\n",
       "      <td>4.0</td>\n",
       "      <td>5.0</td>\n",
       "      <td>2.0</td>\n",
       "      <td>Semi Detached Duplex</td>\n",
       "      <td>Lekki</td>\n",
       "      <td>75000000.0</td>\n",
       "    </tr>\n",
       "    <tr>\n",
       "      <th>2</th>\n",
       "      <td>4.0</td>\n",
       "      <td>5.0</td>\n",
       "      <td>5.0</td>\n",
       "      <td>4.0</td>\n",
       "      <td>Detached Duplex</td>\n",
       "      <td>Lekki</td>\n",
       "      <td>65000000.0</td>\n",
       "    </tr>\n",
       "    <tr>\n",
       "      <th>3</th>\n",
       "      <td>1.0</td>\n",
       "      <td>1.0</td>\n",
       "      <td>1.0</td>\n",
       "      <td>1.0</td>\n",
       "      <td>Detached Duplex</td>\n",
       "      <td>Lekki</td>\n",
       "      <td>200000000.0</td>\n",
       "    </tr>\n",
       "    <tr>\n",
       "      <th>4</th>\n",
       "      <td>4.0</td>\n",
       "      <td>5.0</td>\n",
       "      <td>6.0</td>\n",
       "      <td>3.0</td>\n",
       "      <td>Semi Detached Duplex</td>\n",
       "      <td>Lekki</td>\n",
       "      <td>65000000.0</td>\n",
       "    </tr>\n",
       "  </tbody>\n",
       "</table>\n",
       "</div>"
      ],
      "text/plain": [
       "   bedrooms  bathrooms  toilets  parking_space            house_type   town  \\\n",
       "0       4.0        5.0      5.0            4.0       Detached Duplex  Lekki   \n",
       "1       4.0        4.0      5.0            2.0  Semi Detached Duplex  Lekki   \n",
       "2       4.0        5.0      5.0            4.0       Detached Duplex  Lekki   \n",
       "3       1.0        1.0      1.0            1.0       Detached Duplex  Lekki   \n",
       "4       4.0        5.0      6.0            3.0  Semi Detached Duplex  Lekki   \n",
       "\n",
       "         price  \n",
       "0  120000000.0  \n",
       "1   75000000.0  \n",
       "2   65000000.0  \n",
       "3  200000000.0  \n",
       "4   65000000.0  "
      ]
     },
     "execution_count": 112,
     "metadata": {},
     "output_type": "execute_result"
    }
   ],
   "source": [
    "df_lekki.rename({\"title\":\"house_type\"},axis = 1, inplace = True)\n",
    "df_lekki.head()"
   ]
  },
  {
   "cell_type": "code",
   "execution_count": 113,
   "id": "16c389b6",
   "metadata": {},
   "outputs": [
    {
     "name": "stdout",
     "output_type": "stream",
     "text": [
      "Detached Duplex           6259\n",
      "Semi Detached Duplex      1376\n",
      "Terraced Duplexes         1232\n",
      "Block of Flats             169\n",
      "Semi Detached Bungalow      41\n",
      "Detached Bungalow           38\n",
      "Terraced Bungalow           19\n",
      "Name: house_type, dtype: int64\n"
     ]
    },
    {
     "data": {
      "image/png": "[encoded data removed]",
      "text/plain": [
       "<Figure size 640x480 with 1 Axes>"
      ]
     },
     "metadata": {},
     "output_type": "display_data"
    }
   ],
   "source": [
    "print(df_lekki[\"house_type\"].value_counts())\n",
    "(\n",
    "(df_lekki.groupby(\"house_type\")[\"price\"].mean()/1e6)\n",
    ".sort_values(ascending=False).\n",
    " plot(kind='barh',\n",
    "     xlabel = \"House Type\",\n",
    "     ylabel = \"Prices [#1m]\",\n",
    "     title = \"Average Price by House Type in Lekki\")   \n",
    ");"
   ]
  },
  {
   "cell_type": "code",
   "execution_count": 114,
   "id": "68f670e7",
   "metadata": {},
   "outputs": [],
   "source": [
    "df_lekki[\"total_rooms\"] = df.bedrooms + df.bathrooms + df.toilets + df.parking_space\n",
    "\n",
    "# swap the positions of the price and total_rooms columns\n",
    "cols = list(df_lekki.columns)\n",
    "cols[-1], cols[-2] = cols[-2], cols[-1]\n",
    "df_lekki = df_lekki[cols]"
   ]
  },
  {
   "cell_type": "code",
   "execution_count": 115,
   "id": "90bb6371",
   "metadata": {},
   "outputs": [
    {
     "data": {
      "text/html": [
       "<div>\n",
       "<style scoped>\n",
       "    .dataframe tbody tr th:only-of-type {\n",
       "        vertical-align: middle;\n",
       "    }\n",
       "\n",
       "    .dataframe tbody tr th {\n",
       "        vertical-align: top;\n",
       "    }\n",
       "\n",
       "    .dataframe thead th {\n",
       "        text-align: right;\n",
       "    }\n",
       "</style>\n",
       "<table border=\"1\" class=\"dataframe\">\n",
       "  <thead>\n",
       "    <tr style=\"text-align: right;\">\n",
       "      <th></th>\n",
       "      <th>bedrooms</th>\n",
       "      <th>bathrooms</th>\n",
       "      <th>toilets</th>\n",
       "      <th>parking_space</th>\n",
       "      <th>house_type</th>\n",
       "      <th>town</th>\n",
       "      <th>total_rooms</th>\n",
       "      <th>price</th>\n",
       "    </tr>\n",
       "  </thead>\n",
       "  <tbody>\n",
       "    <tr>\n",
       "      <th>0</th>\n",
       "      <td>4.0</td>\n",
       "      <td>5.0</td>\n",
       "      <td>5.0</td>\n",
       "      <td>4.0</td>\n",
       "      <td>Detached Duplex</td>\n",
       "      <td>Lekki</td>\n",
       "      <td>20.0</td>\n",
       "      <td>120000000.0</td>\n",
       "    </tr>\n",
       "    <tr>\n",
       "      <th>1</th>\n",
       "      <td>4.0</td>\n",
       "      <td>4.0</td>\n",
       "      <td>5.0</td>\n",
       "      <td>2.0</td>\n",
       "      <td>Semi Detached Duplex</td>\n",
       "      <td>Lekki</td>\n",
       "      <td>18.0</td>\n",
       "      <td>75000000.0</td>\n",
       "    </tr>\n",
       "    <tr>\n",
       "      <th>2</th>\n",
       "      <td>4.0</td>\n",
       "      <td>5.0</td>\n",
       "      <td>5.0</td>\n",
       "      <td>4.0</td>\n",
       "      <td>Detached Duplex</td>\n",
       "      <td>Lekki</td>\n",
       "      <td>18.0</td>\n",
       "      <td>65000000.0</td>\n",
       "    </tr>\n",
       "    <tr>\n",
       "      <th>3</th>\n",
       "      <td>1.0</td>\n",
       "      <td>1.0</td>\n",
       "      <td>1.0</td>\n",
       "      <td>1.0</td>\n",
       "      <td>Detached Duplex</td>\n",
       "      <td>Lekki</td>\n",
       "      <td>19.0</td>\n",
       "      <td>200000000.0</td>\n",
       "    </tr>\n",
       "    <tr>\n",
       "      <th>4</th>\n",
       "      <td>4.0</td>\n",
       "      <td>5.0</td>\n",
       "      <td>6.0</td>\n",
       "      <td>3.0</td>\n",
       "      <td>Semi Detached Duplex</td>\n",
       "      <td>Lekki</td>\n",
       "      <td>15.0</td>\n",
       "      <td>65000000.0</td>\n",
       "    </tr>\n",
       "    <tr>\n",
       "      <th>...</th>\n",
       "      <td>...</td>\n",
       "      <td>...</td>\n",
       "      <td>...</td>\n",
       "      <td>...</td>\n",
       "      <td>...</td>\n",
       "      <td>...</td>\n",
       "      <td>...</td>\n",
       "      <td>...</td>\n",
       "    </tr>\n",
       "    <tr>\n",
       "      <th>9129</th>\n",
       "      <td>4.0</td>\n",
       "      <td>4.0</td>\n",
       "      <td>5.0</td>\n",
       "      <td>3.0</td>\n",
       "      <td>Terraced Duplexes</td>\n",
       "      <td>Lekki</td>\n",
       "      <td>26.0</td>\n",
       "      <td>75000000.0</td>\n",
       "    </tr>\n",
       "    <tr>\n",
       "      <th>9130</th>\n",
       "      <td>4.0</td>\n",
       "      <td>5.0</td>\n",
       "      <td>5.0</td>\n",
       "      <td>4.0</td>\n",
       "      <td>Semi Detached Duplex</td>\n",
       "      <td>Lekki</td>\n",
       "      <td>9.0</td>\n",
       "      <td>110000000.0</td>\n",
       "    </tr>\n",
       "    <tr>\n",
       "      <th>9131</th>\n",
       "      <td>3.0</td>\n",
       "      <td>4.0</td>\n",
       "      <td>4.0</td>\n",
       "      <td>5.0</td>\n",
       "      <td>Detached Duplex</td>\n",
       "      <td>Lekki</td>\n",
       "      <td>17.0</td>\n",
       "      <td>80000000.0</td>\n",
       "    </tr>\n",
       "    <tr>\n",
       "      <th>9132</th>\n",
       "      <td>4.0</td>\n",
       "      <td>5.0</td>\n",
       "      <td>5.0</td>\n",
       "      <td>4.0</td>\n",
       "      <td>Detached Duplex</td>\n",
       "      <td>Lekki</td>\n",
       "      <td>21.0</td>\n",
       "      <td>68000000.0</td>\n",
       "    </tr>\n",
       "    <tr>\n",
       "      <th>9133</th>\n",
       "      <td>4.0</td>\n",
       "      <td>5.0</td>\n",
       "      <td>5.0</td>\n",
       "      <td>4.0</td>\n",
       "      <td>Detached Duplex</td>\n",
       "      <td>Lekki</td>\n",
       "      <td>13.0</td>\n",
       "      <td>65000000.0</td>\n",
       "    </tr>\n",
       "  </tbody>\n",
       "</table>\n",
       "<p>9134 rows × 8 columns</p>\n",
       "</div>"
      ],
      "text/plain": [
       "      bedrooms  bathrooms  toilets  parking_space            house_type  \\\n",
       "0          4.0        5.0      5.0            4.0       Detached Duplex   \n",
       "1          4.0        4.0      5.0            2.0  Semi Detached Duplex   \n",
       "2          4.0        5.0      5.0            4.0       Detached Duplex   \n",
       "3          1.0        1.0      1.0            1.0       Detached Duplex   \n",
       "4          4.0        5.0      6.0            3.0  Semi Detached Duplex   \n",
       "...        ...        ...      ...            ...                   ...   \n",
       "9129       4.0        4.0      5.0            3.0     Terraced Duplexes   \n",
       "9130       4.0        5.0      5.0            4.0  Semi Detached Duplex   \n",
       "9131       3.0        4.0      4.0            5.0       Detached Duplex   \n",
       "9132       4.0        5.0      5.0            4.0       Detached Duplex   \n",
       "9133       4.0        5.0      5.0            4.0       Detached Duplex   \n",
       "\n",
       "       town  total_rooms        price  \n",
       "0     Lekki         20.0  120000000.0  \n",
       "1     Lekki         18.0   75000000.0  \n",
       "2     Lekki         18.0   65000000.0  \n",
       "3     Lekki         19.0  200000000.0  \n",
       "4     Lekki         15.0   65000000.0  \n",
       "...     ...          ...          ...  \n",
       "9129  Lekki         26.0   75000000.0  \n",
       "9130  Lekki          9.0  110000000.0  \n",
       "9131  Lekki         17.0   80000000.0  \n",
       "9132  Lekki         21.0   68000000.0  \n",
       "9133  Lekki         13.0   65000000.0  \n",
       "\n",
       "[9134 rows x 8 columns]"
      ]
     },
     "execution_count": 115,
     "metadata": {},
     "output_type": "execute_result"
    }
   ],
   "source": [
    "df_lekki"
   ]
  },
  {
   "cell_type": "code",
   "execution_count": 116,
   "id": "617bd072",
   "metadata": {},
   "outputs": [
    {
     "data": {
      "text/plain": [
       "-0.0020368542501899936"
      ]
     },
     "execution_count": 116,
     "metadata": {},
     "output_type": "execute_result"
    },
    {
     "data": {
      "image/png": "[encoded data removed]",
      "text/plain": [
       "<Figure size 640x480 with 1 Axes>"
      ]
     },
     "metadata": {},
     "output_type": "display_data"
    }
   ],
   "source": [
    "plt.scatter(\n",
    "    x = df_lekki.price,\n",
    "    y = df_lekki.total_rooms\n",
    ")\n",
    "df_lekki.price.corr(df_lekki.total_rooms)"
   ]
  },
  {
   "cell_type": "code",
   "execution_count": 117,
   "id": "64090531",
   "metadata": {},
   "outputs": [
    {
     "name": "stdout",
     "output_type": "stream",
     "text": [
      "               bedrooms  bathrooms   toilets  parking_space  total_rooms  \\\n",
      "bedrooms       1.000000   0.750079  0.768076       0.315122     0.010758   \n",
      "bathrooms      0.750079   1.000000  0.762202       0.306990    -0.006481   \n",
      "toilets        0.768076   0.762202  1.000000       0.299910     0.011514   \n",
      "parking_space  0.315122   0.306990  0.299910       1.000000     0.007555   \n",
      "total_rooms    0.010758  -0.006481  0.011514       0.007555     1.000000   \n",
      "price          0.525320   0.405033  0.411606       0.274123    -0.002037   \n",
      "\n",
      "                  price  \n",
      "bedrooms       0.525320  \n",
      "bathrooms      0.405033  \n",
      "toilets        0.411606  \n",
      "parking_space  0.274123  \n",
      "total_rooms   -0.002037  \n",
      "price          1.000000  \n"
     ]
    },
    {
     "data": {
      "text/plain": [
       "<AxesSubplot:>"
      ]
     },
     "execution_count": 117,
     "metadata": {},
     "output_type": "execute_result"
    },
    {
     "data": {
      "image/png": "[encoded data removed]",
      "text/plain": [
       "<Figure size 640x480 with 2 Axes>"
      ]
     },
     "metadata": {},
     "output_type": "display_data"
    }
   ],
   "source": [
    "corr = df_lekki.corr()\n",
    "print(corr)\n",
    "sns.heatmap(corr)"
   ]
  },
  {
   "cell_type": "code",
   "execution_count": 118,
   "id": "afc5d9df",
   "metadata": {},
   "outputs": [],
   "source": [
    "# DRop multi-collinearity and low-cardinality features and feature not correlating with target"
   ]
  },
  {
   "cell_type": "code",
   "execution_count": 119,
   "id": "5b39107c",
   "metadata": {},
   "outputs": [],
   "source": [
    "df_lekki.drop(columns=[\"bathrooms\",\"toilets\",\"town\",\"total_rooms\"], inplace = True)"
   ]
  },
  {
   "cell_type": "code",
   "execution_count": 120,
   "id": "6fe93244",
   "metadata": {},
   "outputs": [],
   "source": [
    "trim = q1, q9 = df_lekki.price.quantile([0.1,0.9])\n",
    "mask = df_lekki.price.between(q1,q9)\n",
    "trimmed_df_lekki = df_lekki[mask]"
   ]
  },
  {
   "cell_type": "code",
   "execution_count": 121,
   "id": "9b8fa812",
   "metadata": {},
   "outputs": [
    {
     "data": {
      "text/plain": [
       "7397    55000000.0\n",
       "6960    55000000.0\n",
       "644     55000000.0\n",
       "6936    55000000.0\n",
       "3619    55000000.0\n",
       "Name: price, dtype: float64"
      ]
     },
     "execution_count": 121,
     "metadata": {},
     "output_type": "execute_result"
    }
   ],
   "source": [
    "trimmed_df_lekki.price.sort_values().head()"
   ]
  },
  {
   "cell_type": "code",
   "execution_count": 122,
   "id": "91c263b3",
   "metadata": {},
   "outputs": [
    {
     "data": {
      "text/plain": [
       "bedrooms                       8.0\n",
       "parking_space                  9.0\n",
       "house_type       Terraced Duplexes\n",
       "price                  170000000.0\n",
       "dtype: object"
      ]
     },
     "execution_count": 122,
     "metadata": {},
     "output_type": "execute_result"
    }
   ],
   "source": [
    "trimmed_df_lekki.head()\n",
    "trimmed_df_lekki\n",
    "trimmed_df_lekki.max()"
   ]
  },
  {
   "cell_type": "code",
   "execution_count": 123,
   "id": "ee1df793",
   "metadata": {},
   "outputs": [],
   "source": [
    "#finally split data "
   ]
  },
  {
   "cell_type": "code",
   "execution_count": 124,
   "id": "cc3c710f",
   "metadata": {},
   "outputs": [
    {
     "data": {
      "text/plain": [
       "0       120000000.0\n",
       "1        75000000.0\n",
       "2        65000000.0\n",
       "4        65000000.0\n",
       "5        70000000.0\n",
       "           ...     \n",
       "9129     75000000.0\n",
       "9130    110000000.0\n",
       "9131     80000000.0\n",
       "9132     68000000.0\n",
       "9133     65000000.0\n",
       "Name: price, Length: 7526, dtype: float64"
      ]
     },
     "execution_count": 124,
     "metadata": {},
     "output_type": "execute_result"
    }
   ],
   "source": [
    "target = \"price\"\n",
    "features = (trimmed_df_lekki.drop(columns = target)).columns\n",
    "y = trimmed_df_lekki[target]\n",
    "X = trimmed_df_lekki[features]\n",
    "X\n",
    "y\n"
   ]
  },
  {
   "cell_type": "code",
   "execution_count": 125,
   "id": "cbb93289",
   "metadata": {},
   "outputs": [],
   "source": [
    "# Create the pipeline with only OneHotEncoder\n",
    "pipeline = make_pipeline(OneHotEncoder(use_cat_names=True))\n",
    "\n",
    "# Fit and transform the data using the pipeline\n",
    "X_enc = pipeline.fit_transform(X)\n",
    "\n"
   ]
  },
  {
   "cell_type": "code",
   "execution_count": 126,
   "id": "b122b595",
   "metadata": {},
   "outputs": [
    {
     "data": {
      "text/html": [
       "<div>\n",
       "<style scoped>\n",
       "    .dataframe tbody tr th:only-of-type {\n",
       "        vertical-align: middle;\n",
       "    }\n",
       "\n",
       "    .dataframe tbody tr th {\n",
       "        vertical-align: top;\n",
       "    }\n",
       "\n",
       "    .dataframe thead th {\n",
       "        text-align: right;\n",
       "    }\n",
       "</style>\n",
       "<table border=\"1\" class=\"dataframe\">\n",
       "  <thead>\n",
       "    <tr style=\"text-align: right;\">\n",
       "      <th></th>\n",
       "      <th>bedrooms</th>\n",
       "      <th>parking_space</th>\n",
       "      <th>house_type_Detached Duplex</th>\n",
       "      <th>house_type_Semi Detached Duplex</th>\n",
       "      <th>house_type_Terraced Duplexes</th>\n",
       "      <th>house_type_Block of Flats</th>\n",
       "      <th>house_type_Detached Bungalow</th>\n",
       "      <th>house_type_Terraced Bungalow</th>\n",
       "      <th>house_type_Semi Detached Bungalow</th>\n",
       "    </tr>\n",
       "  </thead>\n",
       "  <tbody>\n",
       "    <tr>\n",
       "      <th>0</th>\n",
       "      <td>4.0</td>\n",
       "      <td>4.0</td>\n",
       "      <td>1</td>\n",
       "      <td>0</td>\n",
       "      <td>0</td>\n",
       "      <td>0</td>\n",
       "      <td>0</td>\n",
       "      <td>0</td>\n",
       "      <td>0</td>\n",
       "    </tr>\n",
       "    <tr>\n",
       "      <th>1</th>\n",
       "      <td>4.0</td>\n",
       "      <td>2.0</td>\n",
       "      <td>0</td>\n",
       "      <td>1</td>\n",
       "      <td>0</td>\n",
       "      <td>0</td>\n",
       "      <td>0</td>\n",
       "      <td>0</td>\n",
       "      <td>0</td>\n",
       "    </tr>\n",
       "    <tr>\n",
       "      <th>2</th>\n",
       "      <td>4.0</td>\n",
       "      <td>4.0</td>\n",
       "      <td>1</td>\n",
       "      <td>0</td>\n",
       "      <td>0</td>\n",
       "      <td>0</td>\n",
       "      <td>0</td>\n",
       "      <td>0</td>\n",
       "      <td>0</td>\n",
       "    </tr>\n",
       "    <tr>\n",
       "      <th>4</th>\n",
       "      <td>4.0</td>\n",
       "      <td>3.0</td>\n",
       "      <td>0</td>\n",
       "      <td>1</td>\n",
       "      <td>0</td>\n",
       "      <td>0</td>\n",
       "      <td>0</td>\n",
       "      <td>0</td>\n",
       "      <td>0</td>\n",
       "    </tr>\n",
       "    <tr>\n",
       "      <th>5</th>\n",
       "      <td>4.0</td>\n",
       "      <td>4.0</td>\n",
       "      <td>0</td>\n",
       "      <td>1</td>\n",
       "      <td>0</td>\n",
       "      <td>0</td>\n",
       "      <td>0</td>\n",
       "      <td>0</td>\n",
       "      <td>0</td>\n",
       "    </tr>\n",
       "    <tr>\n",
       "      <th>...</th>\n",
       "      <td>...</td>\n",
       "      <td>...</td>\n",
       "      <td>...</td>\n",
       "      <td>...</td>\n",
       "      <td>...</td>\n",
       "      <td>...</td>\n",
       "      <td>...</td>\n",
       "      <td>...</td>\n",
       "      <td>...</td>\n",
       "    </tr>\n",
       "    <tr>\n",
       "      <th>9129</th>\n",
       "      <td>4.0</td>\n",
       "      <td>3.0</td>\n",
       "      <td>0</td>\n",
       "      <td>0</td>\n",
       "      <td>1</td>\n",
       "      <td>0</td>\n",
       "      <td>0</td>\n",
       "      <td>0</td>\n",
       "      <td>0</td>\n",
       "    </tr>\n",
       "    <tr>\n",
       "      <th>9130</th>\n",
       "      <td>4.0</td>\n",
       "      <td>4.0</td>\n",
       "      <td>0</td>\n",
       "      <td>1</td>\n",
       "      <td>0</td>\n",
       "      <td>0</td>\n",
       "      <td>0</td>\n",
       "      <td>0</td>\n",
       "      <td>0</td>\n",
       "    </tr>\n",
       "    <tr>\n",
       "      <th>9131</th>\n",
       "      <td>3.0</td>\n",
       "      <td>5.0</td>\n",
       "      <td>1</td>\n",
       "      <td>0</td>\n",
       "      <td>0</td>\n",
       "      <td>0</td>\n",
       "      <td>0</td>\n",
       "      <td>0</td>\n",
       "      <td>0</td>\n",
       "    </tr>\n",
       "    <tr>\n",
       "      <th>9132</th>\n",
       "      <td>4.0</td>\n",
       "      <td>4.0</td>\n",
       "      <td>1</td>\n",
       "      <td>0</td>\n",
       "      <td>0</td>\n",
       "      <td>0</td>\n",
       "      <td>0</td>\n",
       "      <td>0</td>\n",
       "      <td>0</td>\n",
       "    </tr>\n",
       "    <tr>\n",
       "      <th>9133</th>\n",
       "      <td>4.0</td>\n",
       "      <td>4.0</td>\n",
       "      <td>1</td>\n",
       "      <td>0</td>\n",
       "      <td>0</td>\n",
       "      <td>0</td>\n",
       "      <td>0</td>\n",
       "      <td>0</td>\n",
       "      <td>0</td>\n",
       "    </tr>\n",
       "  </tbody>\n",
       "</table>\n",
       "<p>7526 rows × 9 columns</p>\n",
       "</div>"
      ],
      "text/plain": [
       "      bedrooms  parking_space  house_type_Detached Duplex  \\\n",
       "0          4.0            4.0                           1   \n",
       "1          4.0            2.0                           0   \n",
       "2          4.0            4.0                           1   \n",
       "4          4.0            3.0                           0   \n",
       "5          4.0            4.0                           0   \n",
       "...        ...            ...                         ...   \n",
       "9129       4.0            3.0                           0   \n",
       "9130       4.0            4.0                           0   \n",
       "9131       3.0            5.0                           1   \n",
       "9132       4.0            4.0                           1   \n",
       "9133       4.0            4.0                           1   \n",
       "\n",
       "      house_type_Semi Detached Duplex  house_type_Terraced Duplexes  \\\n",
       "0                                   0                             0   \n",
       "1                                   1                             0   \n",
       "2                                   0                             0   \n",
       "4                                   1                             0   \n",
       "5                                   1                             0   \n",
       "...                               ...                           ...   \n",
       "9129                                0                             1   \n",
       "9130                                1                             0   \n",
       "9131                                0                             0   \n",
       "9132                                0                             0   \n",
       "9133                                0                             0   \n",
       "\n",
       "      house_type_Block of Flats  house_type_Detached Bungalow  \\\n",
       "0                             0                             0   \n",
       "1                             0                             0   \n",
       "2                             0                             0   \n",
       "4                             0                             0   \n",
       "5                             0                             0   \n",
       "...                         ...                           ...   \n",
       "9129                          0                             0   \n",
       "9130                          0                             0   \n",
       "9131                          0                             0   \n",
       "9132                          0                             0   \n",
       "9133                          0                             0   \n",
       "\n",
       "      house_type_Terraced Bungalow  house_type_Semi Detached Bungalow  \n",
       "0                                0                                  0  \n",
       "1                                0                                  0  \n",
       "2                                0                                  0  \n",
       "4                                0                                  0  \n",
       "5                                0                                  0  \n",
       "...                            ...                                ...  \n",
       "9129                             0                                  0  \n",
       "9130                             0                                  0  \n",
       "9131                             0                                  0  \n",
       "9132                             0                                  0  \n",
       "9133                             0                                  0  \n",
       "\n",
       "[7526 rows x 9 columns]"
      ]
     },
     "execution_count": 126,
     "metadata": {},
     "output_type": "execute_result"
    }
   ],
   "source": [
    "X_enc"
   ]
  },
  {
   "cell_type": "code",
   "execution_count": 127,
   "id": "dd4a9a12",
   "metadata": {},
   "outputs": [],
   "source": [
    "X_train, X_test, y_train, y_test = train_test_split(X_enc, y, test_size = 0.2, random_state = 42)"
   ]
  },
  {
   "cell_type": "code",
   "execution_count": 128,
   "id": "0b8c8796",
   "metadata": {},
   "outputs": [
    {
     "name": "stdout",
     "output_type": "stream",
     "text": [
      "1506\n",
      "1505\n"
     ]
    }
   ],
   "source": [
    "print(len(X_test))\n",
    "print(round(len(X_enc)*0.2))\n"
   ]
  },
  {
   "cell_type": "code",
   "execution_count": 129,
   "id": "e05a27b9",
   "metadata": {},
   "outputs": [
    {
     "data": {
      "text/plain": [
       "' Model Baseline\\n'"
      ]
     },
     "execution_count": 129,
     "metadata": {},
     "output_type": "execute_result"
    }
   ],
   "source": [
    "\"\"\" Model Baseline\n",
    "\"\"\""
   ]
  },
  {
   "cell_type": "code",
   "execution_count": 130,
   "id": "c5065903",
   "metadata": {},
   "outputs": [
    {
     "name": "stdout",
     "output_type": "stream",
     "text": [
      "Mean price: 101915054.8179402\n",
      "Baseline MAE: 28144187.62008587\n"
     ]
    }
   ],
   "source": [
    "y_mean = y_train.mean()\n",
    "y_pred_baseline = [y_mean]*len(y_train)\n",
    "print(\"Mean price:\", y_mean)\n",
    "print(\"Baseline MAE:\", mean_absolute_error(y_train, y_pred_baseline))"
   ]
  },
  {
   "cell_type": "code",
   "execution_count": 131,
   "id": "652a4145",
   "metadata": {},
   "outputs": [
    {
     "data": {
      "text/plain": [
       "0.29727884096269963"
      ]
     },
     "execution_count": 131,
     "metadata": {},
     "output_type": "execute_result"
    }
   ],
   "source": [
    "from sklearn.linear_model import LinearRegression\n",
    "lr_clf = LinearRegression()\n",
    "lr_clf.fit(X_train,y_train)\n",
    "lr_clf.score(X_test,y_test)"
   ]
  },
  {
   "cell_type": "code",
   "execution_count": 132,
   "id": "e39587f7",
   "metadata": {},
   "outputs": [
    {
     "data": {
      "text/plain": [
       "array([0.27966274, 0.28897156, 0.29296702, 0.30480307, 0.26553127])"
      ]
     },
     "execution_count": 132,
     "metadata": {},
     "output_type": "execute_result"
    }
   ],
   "source": [
    "#Using cross_validation to test it multiple times to see scores\n",
    "\n",
    "from sklearn.model_selection import  ShuffleSplit\n",
    "from sklearn.model_selection import cross_val_score\n",
    "\n",
    "cv = ShuffleSplit(n_splits=5, test_size=0.2,random_state=0)\n",
    "\n",
    "cross_val_score(LinearRegression(),X_enc,y,cv=cv)"
   ]
  },
  {
   "cell_type": "code",
   "execution_count": 133,
   "id": "124d8f22",
   "metadata": {},
   "outputs": [
    {
     "data": {
      "text/plain": [
       "0.29727884096269963"
      ]
     },
     "execution_count": 133,
     "metadata": {},
     "output_type": "execute_result"
    }
   ],
   "source": [
    "from sklearn.linear_model import LinearRegression\n",
    "lr_clf = LinearRegression()\n",
    "lr_clf.fit(X_train,y_train)\n",
    "lr_clf.score(X_test,y_test)"
   ]
  },
  {
   "cell_type": "code",
   "execution_count": 134,
   "id": "8499e588",
   "metadata": {},
   "outputs": [],
   "source": [
    "#As a data scientist check multiple algorithm to get best score\n",
    "# we use gridsearch API\n",
    "\n",
    "from sklearn.model_selection import GridSearchCV\n",
    "\n",
    "\n",
    "from sklearn.linear_model import Lasso\n",
    "from sklearn.tree import DecisionTreeRegressor\n",
    "\n",
    "\n",
    "def find_best_model_using_gridSearchCV(X_enc,y):\n",
    "    algos = {\n",
    "        'linear_regression':{\n",
    "            'model': LinearRegression(),\n",
    "            'params':{\n",
    "                'normalize':[True,False]\n",
    "            }\n",
    "        },\n",
    "        'lasso':{\n",
    "            'model': Lasso(),\n",
    "            'params': {\n",
    "                'alpha':[1,2],\n",
    "                'selection':['random','cyclic']\n",
    "            }\n",
    "        },\n",
    "        'decision_tree': {\n",
    "            'model':DecisionTreeRegressor(),\n",
    "            'params':{\n",
    "                'criterion':['mse','friedman_mse'],\n",
    "                'splitter': ['best','random']\n",
    "            }\n",
    "        }\n",
    "    }\n",
    "    \n",
    "    scores = []\n",
    "    #adding cross validation to shuffle tes\n",
    "    cv = ShuffleSplit(n_splits=5,test_size=0.2,random_state=0)\n",
    "    for algo_name,config in algos.items():\n",
    "        gs = GridSearchCV(config['model'],config['params'], cv=cv, return_train_score=False)\n",
    "        gs.fit(X_enc,y)\n",
    "        scores.append({\n",
    "            'model':algo_name,\n",
    "            'best_score': gs.best_score_,\n",
    "            'best_params':gs.best_params_\n",
    "        })\n",
    "        \n",
    "    return pd.DataFrame(scores,columns=['model','best_score','best_params'])    \n"
   ]
  },
  {
   "cell_type": "code",
   "execution_count": 135,
   "id": "1b90ca25",
   "metadata": {},
   "outputs": [
    {
     "name": "stderr",
     "output_type": "stream",
     "text": [
      "C:\\Users\\USER\\anaconda3\\lib\\site-packages\\sklearn\\linear_model\\_base.py:141: FutureWarning: 'normalize' was deprecated in version 1.0 and will be removed in 1.2.\n",
      "If you wish to scale the data, use Pipeline with a StandardScaler in a preprocessing stage. To reproduce the previous behavior:\n",
      "\n",
      "from sklearn.pipeline import make_pipeline\n",
      "\n",
      "model = make_pipeline(StandardScaler(with_mean=False), LinearRegression())\n",
      "\n",
      "If you wish to pass a sample_weight parameter, you need to pass it as a fit parameter to each step of the pipeline as follows:\n",
      "\n",
      "kwargs = {s[0] + '__sample_weight': sample_weight for s in model.steps}\n",
      "model.fit(X, y, **kwargs)\n",
      "\n",
      "\n",
      "  warnings.warn(\n",
      "C:\\Users\\USER\\anaconda3\\lib\\site-packages\\sklearn\\linear_model\\_base.py:141: FutureWarning: 'normalize' was deprecated in version 1.0 and will be removed in 1.2.\n",
      "If you wish to scale the data, use Pipeline with a StandardScaler in a preprocessing stage. To reproduce the previous behavior:\n",
      "\n",
      "from sklearn.pipeline import make_pipeline\n",
      "\n",
      "model = make_pipeline(StandardScaler(with_mean=False), LinearRegression())\n",
      "\n",
      "If you wish to pass a sample_weight parameter, you need to pass it as a fit parameter to each step of the pipeline as follows:\n",
      "\n",
      "kwargs = {s[0] + '__sample_weight': sample_weight for s in model.steps}\n",
      "model.fit(X, y, **kwargs)\n",
      "\n",
      "\n",
      "  warnings.warn(\n",
      "C:\\Users\\USER\\anaconda3\\lib\\site-packages\\sklearn\\linear_model\\_base.py:141: FutureWarning: 'normalize' was deprecated in version 1.0 and will be removed in 1.2.\n",
      "If you wish to scale the data, use Pipeline with a StandardScaler in a preprocessing stage. To reproduce the previous behavior:\n",
      "\n",
      "from sklearn.pipeline import make_pipeline\n",
      "\n",
      "model = make_pipeline(StandardScaler(with_mean=False), LinearRegression())\n",
      "\n",
      "If you wish to pass a sample_weight parameter, you need to pass it as a fit parameter to each step of the pipeline as follows:\n",
      "\n",
      "kwargs = {s[0] + '__sample_weight': sample_weight for s in model.steps}\n",
      "model.fit(X, y, **kwargs)\n",
      "\n",
      "\n",
      "  warnings.warn(\n",
      "C:\\Users\\USER\\anaconda3\\lib\\site-packages\\sklearn\\linear_model\\_base.py:141: FutureWarning: 'normalize' was deprecated in version 1.0 and will be removed in 1.2.\n",
      "If you wish to scale the data, use Pipeline with a StandardScaler in a preprocessing stage. To reproduce the previous behavior:\n",
      "\n",
      "from sklearn.pipeline import make_pipeline\n",
      "\n",
      "model = make_pipeline(StandardScaler(with_mean=False), LinearRegression())\n",
      "\n",
      "If you wish to pass a sample_weight parameter, you need to pass it as a fit parameter to each step of the pipeline as follows:\n",
      "\n",
      "kwargs = {s[0] + '__sample_weight': sample_weight for s in model.steps}\n",
      "model.fit(X, y, **kwargs)\n",
      "\n",
      "\n",
      "  warnings.warn(\n",
      "C:\\Users\\USER\\anaconda3\\lib\\site-packages\\sklearn\\linear_model\\_base.py:141: FutureWarning: 'normalize' was deprecated in version 1.0 and will be removed in 1.2.\n",
      "If you wish to scale the data, use Pipeline with a StandardScaler in a preprocessing stage. To reproduce the previous behavior:\n",
      "\n",
      "from sklearn.pipeline import make_pipeline\n",
      "\n",
      "model = make_pipeline(StandardScaler(with_mean=False), LinearRegression())\n",
      "\n",
      "If you wish to pass a sample_weight parameter, you need to pass it as a fit parameter to each step of the pipeline as follows:\n",
      "\n",
      "kwargs = {s[0] + '__sample_weight': sample_weight for s in model.steps}\n",
      "model.fit(X, y, **kwargs)\n",
      "\n",
      "\n",
      "  warnings.warn(\n",
      "C:\\Users\\USER\\anaconda3\\lib\\site-packages\\sklearn\\linear_model\\_base.py:148: FutureWarning: 'normalize' was deprecated in version 1.0 and will be removed in 1.2. Please leave the normalize parameter to its default value to silence this warning. The default behavior of this estimator is to not do any normalization. If normalization is needed please use sklearn.preprocessing.StandardScaler instead.\n",
      "  warnings.warn(\n",
      "C:\\Users\\USER\\anaconda3\\lib\\site-packages\\sklearn\\linear_model\\_base.py:148: FutureWarning: 'normalize' was deprecated in version 1.0 and will be removed in 1.2. Please leave the normalize parameter to its default value to silence this warning. The default behavior of this estimator is to not do any normalization. If normalization is needed please use sklearn.preprocessing.StandardScaler instead.\n",
      "  warnings.warn(\n",
      "C:\\Users\\USER\\anaconda3\\lib\\site-packages\\sklearn\\linear_model\\_base.py:148: FutureWarning: 'normalize' was deprecated in version 1.0 and will be removed in 1.2. Please leave the normalize parameter to its default value to silence this warning. The default behavior of this estimator is to not do any normalization. If normalization is needed please use sklearn.preprocessing.StandardScaler instead.\n",
      "  warnings.warn(\n",
      "C:\\Users\\USER\\anaconda3\\lib\\site-packages\\sklearn\\linear_model\\_base.py:148: FutureWarning: 'normalize' was deprecated in version 1.0 and will be removed in 1.2. Please leave the normalize parameter to its default value to silence this warning. The default behavior of this estimator is to not do any normalization. If normalization is needed please use sklearn.preprocessing.StandardScaler instead.\n",
      "  warnings.warn(\n",
      "C:\\Users\\USER\\anaconda3\\lib\\site-packages\\sklearn\\linear_model\\_base.py:148: FutureWarning: 'normalize' was deprecated in version 1.0 and will be removed in 1.2. Please leave the normalize parameter to its default value to silence this warning. The default behavior of this estimator is to not do any normalization. If normalization is needed please use sklearn.preprocessing.StandardScaler instead.\n",
      "  warnings.warn(\n",
      "C:\\Users\\USER\\anaconda3\\lib\\site-packages\\sklearn\\linear_model\\_base.py:141: FutureWarning: 'normalize' was deprecated in version 1.0 and will be removed in 1.2.\n",
      "If you wish to scale the data, use Pipeline with a StandardScaler in a preprocessing stage. To reproduce the previous behavior:\n",
      "\n",
      "from sklearn.pipeline import make_pipeline\n",
      "\n",
      "model = make_pipeline(StandardScaler(with_mean=False), LinearRegression())\n",
      "\n",
      "If you wish to pass a sample_weight parameter, you need to pass it as a fit parameter to each step of the pipeline as follows:\n",
      "\n",
      "kwargs = {s[0] + '__sample_weight': sample_weight for s in model.steps}\n",
      "model.fit(X, y, **kwargs)\n",
      "\n",
      "\n",
      "  warnings.warn(\n",
      "C:\\Users\\USER\\anaconda3\\lib\\site-packages\\sklearn\\linear_model\\_coordinate_descent.py:647: ConvergenceWarning: Objective did not converge. You might want to increase the number of iterations, check the scale of the features or consider increasing regularisation. Duality gap: 1.275e+18, tolerance: 6.134e+14\n",
      "  model = cd_fast.enet_coordinate_descent(\n",
      "C:\\Users\\USER\\anaconda3\\lib\\site-packages\\sklearn\\linear_model\\_coordinate_descent.py:647: ConvergenceWarning: Objective did not converge. You might want to increase the number of iterations, check the scale of the features or consider increasing regularisation. Duality gap: 3.792e+17, tolerance: 6.170e+14\n",
      "  model = cd_fast.enet_coordinate_descent(\n",
      "C:\\Users\\USER\\anaconda3\\lib\\site-packages\\sklearn\\linear_model\\_coordinate_descent.py:647: ConvergenceWarning: Objective did not converge. You might want to increase the number of iterations, check the scale of the features or consider increasing regularisation. Duality gap: 3.813e+17, tolerance: 6.134e+14\n",
      "  model = cd_fast.enet_coordinate_descent(\n",
      "C:\\Users\\USER\\anaconda3\\lib\\site-packages\\sklearn\\linear_model\\_coordinate_descent.py:647: ConvergenceWarning: Objective did not converge. You might want to increase the number of iterations, check the scale of the features or consider increasing regularisation. Duality gap: 1.439e+16, tolerance: 6.196e+14\n",
      "  model = cd_fast.enet_coordinate_descent(\n",
      "C:\\Users\\USER\\anaconda3\\lib\\site-packages\\sklearn\\linear_model\\_coordinate_descent.py:647: ConvergenceWarning: Objective did not converge. You might want to increase the number of iterations, check the scale of the features or consider increasing regularisation. Duality gap: 1.400e+16, tolerance: 6.110e+14\n",
      "  model = cd_fast.enet_coordinate_descent(\n",
      "C:\\Users\\USER\\anaconda3\\lib\\site-packages\\sklearn\\linear_model\\_coordinate_descent.py:647: ConvergenceWarning: Objective did not converge. You might want to increase the number of iterations, check the scale of the features or consider increasing regularisation. Duality gap: 3.730e+17, tolerance: 6.169e+14\n",
      "  model = cd_fast.enet_coordinate_descent(\n",
      "C:\\Users\\USER\\anaconda3\\lib\\site-packages\\sklearn\\linear_model\\_coordinate_descent.py:647: ConvergenceWarning: Objective did not converge. You might want to increase the number of iterations, check the scale of the features or consider increasing regularisation. Duality gap: 6.957e+17, tolerance: 6.110e+14\n",
      "  model = cd_fast.enet_coordinate_descent(\n"
     ]
    },
    {
     "name": "stderr",
     "output_type": "stream",
     "text": [
      "C:\\Users\\USER\\anaconda3\\lib\\site-packages\\sklearn\\linear_model\\_coordinate_descent.py:647: ConvergenceWarning: Objective did not converge. You might want to increase the number of iterations, check the scale of the features or consider increasing regularisation. Duality gap: 3.792e+17, tolerance: 6.170e+14\n",
      "  model = cd_fast.enet_coordinate_descent(\n",
      "C:\\Users\\USER\\anaconda3\\lib\\site-packages\\sklearn\\linear_model\\_coordinate_descent.py:647: ConvergenceWarning: Objective did not converge. You might want to increase the number of iterations, check the scale of the features or consider increasing regularisation. Duality gap: 3.813e+17, tolerance: 6.134e+14\n",
      "  model = cd_fast.enet_coordinate_descent(\n",
      "C:\\Users\\USER\\anaconda3\\lib\\site-packages\\sklearn\\linear_model\\_coordinate_descent.py:647: ConvergenceWarning: Objective did not converge. You might want to increase the number of iterations, check the scale of the features or consider increasing regularisation. Duality gap: 1.439e+16, tolerance: 6.196e+14\n",
      "  model = cd_fast.enet_coordinate_descent(\n",
      "C:\\Users\\USER\\anaconda3\\lib\\site-packages\\sklearn\\linear_model\\_coordinate_descent.py:647: ConvergenceWarning: Objective did not converge. You might want to increase the number of iterations, check the scale of the features or consider increasing regularisation. Duality gap: 1.400e+16, tolerance: 6.110e+14\n",
      "  model = cd_fast.enet_coordinate_descent(\n",
      "C:\\Users\\USER\\anaconda3\\lib\\site-packages\\sklearn\\linear_model\\_coordinate_descent.py:647: ConvergenceWarning: Objective did not converge. You might want to increase the number of iterations, check the scale of the features or consider increasing regularisation. Duality gap: 3.730e+17, tolerance: 6.169e+14\n",
      "  model = cd_fast.enet_coordinate_descent(\n",
      "C:\\Users\\USER\\anaconda3\\lib\\site-packages\\sklearn\\linear_model\\_coordinate_descent.py:647: ConvergenceWarning: Objective did not converge. You might want to increase the number of iterations, check the scale of the features or consider increasing regularisation. Duality gap: 4.762e+17, tolerance: 7.689e+14\n",
      "  model = cd_fast.enet_coordinate_descent(\n",
      "C:\\Users\\USER\\anaconda3\\lib\\site-packages\\sklearn\\tree\\_classes.py:359: FutureWarning: Criterion 'mse' was deprecated in v1.0 and will be removed in version 1.2. Use `criterion='squared_error'` which is equivalent.\n",
      "  warnings.warn(\n",
      "C:\\Users\\USER\\anaconda3\\lib\\site-packages\\sklearn\\tree\\_classes.py:359: FutureWarning: Criterion 'mse' was deprecated in v1.0 and will be removed in version 1.2. Use `criterion='squared_error'` which is equivalent.\n",
      "  warnings.warn(\n",
      "C:\\Users\\USER\\anaconda3\\lib\\site-packages\\sklearn\\tree\\_classes.py:359: FutureWarning: Criterion 'mse' was deprecated in v1.0 and will be removed in version 1.2. Use `criterion='squared_error'` which is equivalent.\n",
      "  warnings.warn(\n",
      "C:\\Users\\USER\\anaconda3\\lib\\site-packages\\sklearn\\tree\\_classes.py:359: FutureWarning: Criterion 'mse' was deprecated in v1.0 and will be removed in version 1.2. Use `criterion='squared_error'` which is equivalent.\n",
      "  warnings.warn(\n",
      "C:\\Users\\USER\\anaconda3\\lib\\site-packages\\sklearn\\tree\\_classes.py:359: FutureWarning: Criterion 'mse' was deprecated in v1.0 and will be removed in version 1.2. Use `criterion='squared_error'` which is equivalent.\n",
      "  warnings.warn(\n",
      "C:\\Users\\USER\\anaconda3\\lib\\site-packages\\sklearn\\tree\\_classes.py:359: FutureWarning: Criterion 'mse' was deprecated in v1.0 and will be removed in version 1.2. Use `criterion='squared_error'` which is equivalent.\n",
      "  warnings.warn(\n",
      "C:\\Users\\USER\\anaconda3\\lib\\site-packages\\sklearn\\tree\\_classes.py:359: FutureWarning: Criterion 'mse' was deprecated in v1.0 and will be removed in version 1.2. Use `criterion='squared_error'` which is equivalent.\n",
      "  warnings.warn(\n",
      "C:\\Users\\USER\\anaconda3\\lib\\site-packages\\sklearn\\tree\\_classes.py:359: FutureWarning: Criterion 'mse' was deprecated in v1.0 and will be removed in version 1.2. Use `criterion='squared_error'` which is equivalent.\n",
      "  warnings.warn(\n",
      "C:\\Users\\USER\\anaconda3\\lib\\site-packages\\sklearn\\tree\\_classes.py:359: FutureWarning: Criterion 'mse' was deprecated in v1.0 and will be removed in version 1.2. Use `criterion='squared_error'` which is equivalent.\n",
      "  warnings.warn(\n",
      "C:\\Users\\USER\\anaconda3\\lib\\site-packages\\sklearn\\tree\\_classes.py:359: FutureWarning: Criterion 'mse' was deprecated in v1.0 and will be removed in version 1.2. Use `criterion='squared_error'` which is equivalent.\n",
      "  warnings.warn(\n",
      "C:\\Users\\USER\\anaconda3\\lib\\site-packages\\sklearn\\tree\\_classes.py:359: FutureWarning: Criterion 'mse' was deprecated in v1.0 and will be removed in version 1.2. Use `criterion='squared_error'` which is equivalent.\n",
      "  warnings.warn(\n"
     ]
    },
    {
     "data": {
      "text/html": [
       "<div>\n",
       "<style scoped>\n",
       "    .dataframe tbody tr th:only-of-type {\n",
       "        vertical-align: middle;\n",
       "    }\n",
       "\n",
       "    .dataframe tbody tr th {\n",
       "        vertical-align: top;\n",
       "    }\n",
       "\n",
       "    .dataframe thead th {\n",
       "        text-align: right;\n",
       "    }\n",
       "</style>\n",
       "<table border=\"1\" class=\"dataframe\">\n",
       "  <thead>\n",
       "    <tr style=\"text-align: right;\">\n",
       "      <th></th>\n",
       "      <th>model</th>\n",
       "      <th>best_score</th>\n",
       "      <th>best_params</th>\n",
       "    </tr>\n",
       "  </thead>\n",
       "  <tbody>\n",
       "    <tr>\n",
       "      <th>0</th>\n",
       "      <td>linear_regression</td>\n",
       "      <td>0.286387</td>\n",
       "      <td>{'normalize': True}</td>\n",
       "    </tr>\n",
       "    <tr>\n",
       "      <th>1</th>\n",
       "      <td>lasso</td>\n",
       "      <td>0.286387</td>\n",
       "      <td>{'alpha': 2, 'selection': 'cyclic'}</td>\n",
       "    </tr>\n",
       "    <tr>\n",
       "      <th>2</th>\n",
       "      <td>decision_tree</td>\n",
       "      <td>0.315972</td>\n",
       "      <td>{'criterion': 'mse', 'splitter': 'random'}</td>\n",
       "    </tr>\n",
       "  </tbody>\n",
       "</table>\n",
       "</div>"
      ],
      "text/plain": [
       "               model  best_score                                 best_params\n",
       "0  linear_regression    0.286387                         {'normalize': True}\n",
       "1              lasso    0.286387         {'alpha': 2, 'selection': 'cyclic'}\n",
       "2      decision_tree    0.315972  {'criterion': 'mse', 'splitter': 'random'}"
      ]
     },
     "execution_count": 135,
     "metadata": {},
     "output_type": "execute_result"
    }
   ],
   "source": [
    "#Winner should be linear regression\n",
    "find_best_model_using_gridSearchCV(X_enc,y)"
   ]
  },
  {
   "cell_type": "code",
   "execution_count": 136,
   "id": "8262dbbf",
   "metadata": {},
   "outputs": [
    {
     "name": "stderr",
     "output_type": "stream",
     "text": [
      "C:\\Users\\USER\\anaconda3\\lib\\site-packages\\sklearn\\tree\\_classes.py:359: FutureWarning: Criterion 'mse' was deprecated in v1.0 and will be removed in version 1.2. Use `criterion='squared_error'` which is equivalent.\n",
      "  warnings.warn(\n"
     ]
    }
   ],
   "source": [
    "from sklearn.tree import DecisionTreeRegressor\n",
    "\n",
    "# Define the parameters for the Decision Tree\n",
    "tree_params = {\n",
    "    'criterion': 'mse',\n",
    "    'splitter': 'best'\n",
    "}\n",
    "\n",
    "# Create the Decision Tree model with the specified parameters\n",
    "model = DecisionTreeRegressor(criterion='mse', splitter='best')\n",
    "\n",
    "# Fit the model to the training data\n",
    "model.fit(X_train, y_train)\n",
    "\n",
    "# Make predictions on the test data\n",
    "predictions = model.predict(X_test)\n"
   ]
  },
  {
   "cell_type": "code",
   "execution_count": 137,
   "id": "c6132c20",
   "metadata": {},
   "outputs": [
    {
     "data": {
      "text/plain": [
       "array([1.19848270e+08, 1.18655936e+08, 1.19848270e+08, ...,\n",
       "       1.19848270e+08, 1.19848270e+08, 7.85039370e+07])"
      ]
     },
     "execution_count": 137,
     "metadata": {},
     "output_type": "execute_result"
    }
   ],
   "source": [
    "predictions"
   ]
  },
  {
   "cell_type": "code",
   "execution_count": 138,
   "id": "c8717f1a",
   "metadata": {},
   "outputs": [
    {
     "name": "stdout",
     "output_type": "stream",
     "text": [
      "Training MAE: 20485061.18422693\n"
     ]
    }
   ],
   "source": [
    "y_pred_training = model.predict(X_train)\n",
    "print(\"Training MAE:\", mean_absolute_error(y_pred_training, y_train))"
   ]
  },
  {
   "cell_type": "code",
   "execution_count": 139,
   "id": "02800fa5",
   "metadata": {},
   "outputs": [
    {
     "data": {
      "text/plain": [
       "<AxesSubplot:>"
      ]
     },
     "execution_count": 139,
     "metadata": {},
     "output_type": "execute_result"
    },
    {
     "data": {
      "image/png": "[encoded data removed]",
      "text/plain": [
       "<Figure size 640x480 with 1 Axes>"
      ]
     },
     "metadata": {},
     "output_type": "display_data"
    }
   ],
   "source": [
    "prediction_data = model.predict(X_test)\n",
    "model_result = pd.DataFrame({'test_price': y_test, \"prediction_price\": prediction_data})\n",
    "model_result.tail(20).plot(kind=\"bar\")"
   ]
  },
  {
   "cell_type": "code",
   "execution_count": 140,
   "id": "a226f509",
   "metadata": {},
   "outputs": [
    {
     "name": "stdout",
     "output_type": "stream",
     "text": [
      "Test MAE: 20140580.118874658\n"
     ]
    }
   ],
   "source": [
    "print(\"Test MAE:\", mean_absolute_error(prediction_data, y_test))"
   ]
  },
  {
   "cell_type": "code",
   "execution_count": 141,
   "id": "f4add573",
   "metadata": {},
   "outputs": [
    {
     "data": {
      "text/plain": [
       "bedrooms                     5.0\n",
       "parking_space                6.0\n",
       "house_type       Detached Duplex\n",
       "price                140000000.0\n",
       "Name: 5935, dtype: object"
      ]
     },
     "execution_count": 141,
     "metadata": {},
     "output_type": "execute_result"
    }
   ],
   "source": [
    "trimmed_df_lekki.iloc[4902]"
   ]
  },
  {
   "cell_type": "code",
   "execution_count": 142,
   "id": "02bc32d8",
   "metadata": {},
   "outputs": [
    {
     "data": {
      "text/plain": [
       "'Result Communication'"
      ]
     },
     "execution_count": 142,
     "metadata": {},
     "output_type": "execute_result"
    }
   ],
   "source": [
    "\"\"\"Result Communication\"\"\""
   ]
  },
  {
   "cell_type": "code",
   "execution_count": 143,
   "id": "376e8fb4",
   "metadata": {},
   "outputs": [
    {
     "data": {
      "image/png": "[encoded data removed]",
      "text/plain": [
       "<Figure size 640x480 with 2 Axes>"
      ]
     },
     "metadata": {},
     "output_type": "display_data"
    }
   ],
   "source": [
    "# Calculate the residuals (difference between predictions and true values)\n",
    "residuals = predictions - y_test\n",
    "\n",
    "# Create a dataframe combining the predictions and residuals\n",
    "heatmap_data = pd.DataFrame({'Predictions': predictions, 'Residuals': residuals})\n",
    "\n",
    "# Create a correlation matrix for the heatmap\n",
    "correlation_matrix = heatmap_data.corr()\n",
    "\n",
    "# Generate the heatmap using Seaborn\n",
    "sns.heatmap(correlation_matrix, annot=True, cmap='coolwarm')\n",
    "\n",
    "# Add labels and title\n",
    "plt.xlabel('Predictions')\n",
    "plt.ylabel('Residuals')\n",
    "plt.title('Heatmap of Predictions vs Residuals')\n",
    "\n",
    "# Display the heatmap\n",
    "plt.show()"
   ]
  },
  {
   "cell_type": "code",
   "execution_count": 144,
   "id": "77f6aac9",
   "metadata": {},
   "outputs": [
    {
     "name": "stdout",
     "output_type": "stream",
     "text": [
      "Feature importances:\n",
      "[8.63365711e-01 5.19027978e-02 1.66510033e-02 4.64293597e-02\n",
      " 1.55462932e-02 1.08131410e-03 1.15291600e-04 7.91901268e-04\n",
      " 4.11632810e-03]\n"
     ]
    }
   ],
   "source": [
    "importance = model.feature_importances_\n",
    "print(\"Feature importances:\")\n",
    "print(importance)\n"
   ]
  },
  {
   "cell_type": "code",
   "execution_count": 145,
   "id": "1e6188e5",
   "metadata": {},
   "outputs": [
    {
     "data": {
      "image/png": "[encoded data removed]",
      "text/plain": [
       "<Figure size 1000x600 with 1 Axes>"
      ]
     },
     "metadata": {},
     "output_type": "display_data"
    }
   ],
   "source": [
    "import pandas as pd\n",
    "import matplotlib.pyplot as plt\n",
    "\n",
    "# Calculate the correlation coefficients between features and price\n",
    "correlations = X_enc.corrwith(y)\n",
    "\n",
    "# Create a bar plot\n",
    "plt.figure(figsize=(10, 6))\n",
    "correlations.plot(kind='bar')\n",
    "plt.xlabel('Features')\n",
    "plt.ylabel('Correlation Coefficient')\n",
    "plt.title('Correlation Coefficients between Features and Price')\n",
    "\n",
    "# Display the plot\n",
    "plt.show()\n"
   ]
  },
  {
   "cell_type": "code",
   "execution_count": 146,
   "id": "da7c7f7c",
   "metadata": {},
   "outputs": [
    {
     "data": {
      "text/plain": [
       "'The bar plot provides evidence that the number of bedrooms has the most significant impact on the price of a house. Additionally, the plot reveals that if a house is classified as a Semi Detached Bungalow, its price depreciates by approximately 18 million naira.'"
      ]
     },
     "execution_count": 146,
     "metadata": {},
     "output_type": "execute_result"
    }
   ],
   "source": [
    "\"\"\"The bar plot provides evidence that the number of bedrooms has the most significant impact on the price of a house. Additionally, the plot reveals that if a house is classified as a Semi Detached Bungalow, its price depreciates by approximately 18 million naira.\"\"\""
   ]
  },
  {
   "cell_type": "code",
   "execution_count": 147,
   "id": "c87a9f5a",
   "metadata": {},
   "outputs": [],
   "source": [
    "def make_prediction(bedrooms, parking_space, house_type):\n",
    "    data = {\n",
    "        \"bedrooms\": bedrooms,\n",
    "        \"parking_space\": parking_space,\n",
    "        \"house_type\": house_type\n",
    "    }\n",
    "    df = pd.DataFrame(data, index=[0])\n",
    "\n",
    "    # Perform one-hot encoding on the 'house_type' column\n",
    "    df_encoded = pd.get_dummies(df)\n",
    "    \n",
    "     # Get the column names from the training data used for the model\n",
    "    model_columns = X_train.columns.to_list()\n",
    "\n",
    "    # Ensure the encoded dataframe has the same columns as the training data\n",
    "    df_encoded = df_encoded.reindex(columns=model_columns, fill_value=0)\n",
    "\n",
    "    prediction = model.predict(df_encoded).round(2)[0]\n",
    "    return f\"Predicted apartment price: ₦{prediction}\"\n"
   ]
  },
  {
   "cell_type": "code",
   "execution_count": 148,
   "id": "0637db83",
   "metadata": {},
   "outputs": [
    {
     "data": {
      "text/plain": [
       "'Predicted apartment price: ₦113000000.0'"
      ]
     },
     "execution_count": 148,
     "metadata": {},
     "output_type": "execute_result"
    }
   ],
   "source": [
    "\"\"\"Testing function\"\"\"\n",
    "make_prediction(4, 2, \"Block of Flats\")"
   ]
  },
  {
   "cell_type": "code",
   "execution_count": 149,
   "id": "04543c14",
   "metadata": {},
   "outputs": [],
   "source": [
    "X_train1, X_test1, y_train1, y_test1 = train_test_split(X, y, test_size = 0.2, random_state = 42)"
   ]
  },
  {
   "cell_type": "code",
   "execution_count": 158,
   "id": "4784a230",
   "metadata": {},
   "outputs": [
    {
     "data": {
      "application/vnd.jupyter.widget-view+json": {
       "model_id": "a290eafa184a459a8e3f12ad747d53de",
       "version_major": 2,
       "version_minor": 0
      },
      "text/plain": [
       "interactive(children=(IntSlider(value=4, description='bedrooms', max=8, min=1), IntSlider(value=3, description…"
      ]
     },
     "metadata": {},
     "output_type": "display_data"
    }
   ],
   "source": [
    "interact(\n",
    "    make_prediction,\n",
    "    bedrooms=IntSlider(\n",
    "        min=X_train1[\"bedrooms\"].min(),\n",
    "        max=X_train1[\"bedrooms\"].max(),\n",
    "        value=X_train1[\"bedrooms\"].mean(),\n",
    "    ),\n",
    "    parking_space=IntSlider(\n",
    "        min=X_train1[\"parking_space\"].min(),\n",
    "        max=X_train1[\"parking_space\"].max(),\n",
    "        step=1,\n",
    "        value=X_train1[\"parking_space\"].mean(),\n",
    "    ),\n",
    "    house_type=Dropdown(options=sorted(X_train1[\"house_type\"].unique())),\n",
    ");"
   ]
  },
  {
   "cell_type": "code",
   "execution_count": 159,
   "id": "79454437",
   "metadata": {},
   "outputs": [],
   "source": [
    "import pickle\n",
    "with open('lekki_home_prices_model.pickle','wb') as f:\n",
    "    pickle.dump(lr_clf,f)"
   ]
  },
  {
   "cell_type": "code",
   "execution_count": 160,
   "id": "224b50ee",
   "metadata": {},
   "outputs": [],
   "source": [
    "import json\n",
    "columns = {\n",
    "    'data_columns' : [col.lower() for col in X.columns]\n",
    "}\n",
    "with open(\"columns.json\",\"w\") as f:\n",
    "    f.write(json.dumps(columns))"
   ]
  },
  {
   "cell_type": "code",
   "execution_count": null,
   "id": "0c0a5c3c",
   "metadata": {},
   "outputs": [],
   "source": []
  }
 ],
 "metadata": {
  "kernelspec": {
   "display_name": "Python 3 (ipykernel)",
   "language": "python",
   "name": "python3"
  },
  "language_info": {
   "codemirror_mode": {
    "name": "ipython",
    "version": 3
   },
   "file_extension": ".py",
   "mimetype": "text/x-python",
   "name": "python",
   "nbconvert_exporter": "python",
   "pygments_lexer": "ipython3",
   "version": "3.9.13"
  }
 },
 "nbformat": 4,
 "nbformat_minor": 5
}
